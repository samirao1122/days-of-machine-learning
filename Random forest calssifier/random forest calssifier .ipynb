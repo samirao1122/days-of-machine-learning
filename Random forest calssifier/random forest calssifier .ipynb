{
 "cells": [
  {
   "cell_type": "code",
   "execution_count": 1,
   "id": "ed3a92a5-8f9d-415b-9315-69a383892a76",
   "metadata": {},
   "outputs": [],
   "source": [
    "from sklearn.datasets import load_digits"
   ]
  },
  {
   "cell_type": "code",
   "execution_count": 2,
   "id": "76801653-32a9-499f-87d0-70d21dffc8b0",
   "metadata": {},
   "outputs": [
    {
     "data": {
      "text/plain": [
       "{'data': array([[ 0.,  0.,  5., ...,  0.,  0.,  0.],\n",
       "        [ 0.,  0.,  0., ..., 10.,  0.,  0.],\n",
       "        [ 0.,  0.,  0., ..., 16.,  9.,  0.],\n",
       "        ...,\n",
       "        [ 0.,  0.,  1., ...,  6.,  0.,  0.],\n",
       "        [ 0.,  0.,  2., ..., 12.,  0.,  0.],\n",
       "        [ 0.,  0., 10., ..., 12.,  1.,  0.]]),\n",
       " 'target': array([0, 1, 2, ..., 8, 9, 8]),\n",
       " 'frame': None,\n",
       " 'feature_names': ['pixel_0_0',\n",
       "  'pixel_0_1',\n",
       "  'pixel_0_2',\n",
       "  'pixel_0_3',\n",
       "  'pixel_0_4',\n",
       "  'pixel_0_5',\n",
       "  'pixel_0_6',\n",
       "  'pixel_0_7',\n",
       "  'pixel_1_0',\n",
       "  'pixel_1_1',\n",
       "  'pixel_1_2',\n",
       "  'pixel_1_3',\n",
       "  'pixel_1_4',\n",
       "  'pixel_1_5',\n",
       "  'pixel_1_6',\n",
       "  'pixel_1_7',\n",
       "  'pixel_2_0',\n",
       "  'pixel_2_1',\n",
       "  'pixel_2_2',\n",
       "  'pixel_2_3',\n",
       "  'pixel_2_4',\n",
       "  'pixel_2_5',\n",
       "  'pixel_2_6',\n",
       "  'pixel_2_7',\n",
       "  'pixel_3_0',\n",
       "  'pixel_3_1',\n",
       "  'pixel_3_2',\n",
       "  'pixel_3_3',\n",
       "  'pixel_3_4',\n",
       "  'pixel_3_5',\n",
       "  'pixel_3_6',\n",
       "  'pixel_3_7',\n",
       "  'pixel_4_0',\n",
       "  'pixel_4_1',\n",
       "  'pixel_4_2',\n",
       "  'pixel_4_3',\n",
       "  'pixel_4_4',\n",
       "  'pixel_4_5',\n",
       "  'pixel_4_6',\n",
       "  'pixel_4_7',\n",
       "  'pixel_5_0',\n",
       "  'pixel_5_1',\n",
       "  'pixel_5_2',\n",
       "  'pixel_5_3',\n",
       "  'pixel_5_4',\n",
       "  'pixel_5_5',\n",
       "  'pixel_5_6',\n",
       "  'pixel_5_7',\n",
       "  'pixel_6_0',\n",
       "  'pixel_6_1',\n",
       "  'pixel_6_2',\n",
       "  'pixel_6_3',\n",
       "  'pixel_6_4',\n",
       "  'pixel_6_5',\n",
       "  'pixel_6_6',\n",
       "  'pixel_6_7',\n",
       "  'pixel_7_0',\n",
       "  'pixel_7_1',\n",
       "  'pixel_7_2',\n",
       "  'pixel_7_3',\n",
       "  'pixel_7_4',\n",
       "  'pixel_7_5',\n",
       "  'pixel_7_6',\n",
       "  'pixel_7_7'],\n",
       " 'target_names': array([0, 1, 2, 3, 4, 5, 6, 7, 8, 9]),\n",
       " 'images': array([[[ 0.,  0.,  5., ...,  1.,  0.,  0.],\n",
       "         [ 0.,  0., 13., ..., 15.,  5.,  0.],\n",
       "         [ 0.,  3., 15., ..., 11.,  8.,  0.],\n",
       "         ...,\n",
       "         [ 0.,  4., 11., ..., 12.,  7.,  0.],\n",
       "         [ 0.,  2., 14., ..., 12.,  0.,  0.],\n",
       "         [ 0.,  0.,  6., ...,  0.,  0.,  0.]],\n",
       " \n",
       "        [[ 0.,  0.,  0., ...,  5.,  0.,  0.],\n",
       "         [ 0.,  0.,  0., ...,  9.,  0.,  0.],\n",
       "         [ 0.,  0.,  3., ...,  6.,  0.,  0.],\n",
       "         ...,\n",
       "         [ 0.,  0.,  1., ...,  6.,  0.,  0.],\n",
       "         [ 0.,  0.,  1., ...,  6.,  0.,  0.],\n",
       "         [ 0.,  0.,  0., ..., 10.,  0.,  0.]],\n",
       " \n",
       "        [[ 0.,  0.,  0., ..., 12.,  0.,  0.],\n",
       "         [ 0.,  0.,  3., ..., 14.,  0.,  0.],\n",
       "         [ 0.,  0.,  8., ..., 16.,  0.,  0.],\n",
       "         ...,\n",
       "         [ 0.,  9., 16., ...,  0.,  0.,  0.],\n",
       "         [ 0.,  3., 13., ..., 11.,  5.,  0.],\n",
       "         [ 0.,  0.,  0., ..., 16.,  9.,  0.]],\n",
       " \n",
       "        ...,\n",
       " \n",
       "        [[ 0.,  0.,  1., ...,  1.,  0.,  0.],\n",
       "         [ 0.,  0., 13., ...,  2.,  1.,  0.],\n",
       "         [ 0.,  0., 16., ..., 16.,  5.,  0.],\n",
       "         ...,\n",
       "         [ 0.,  0., 16., ..., 15.,  0.,  0.],\n",
       "         [ 0.,  0., 15., ..., 16.,  0.,  0.],\n",
       "         [ 0.,  0.,  2., ...,  6.,  0.,  0.]],\n",
       " \n",
       "        [[ 0.,  0.,  2., ...,  0.,  0.,  0.],\n",
       "         [ 0.,  0., 14., ..., 15.,  1.,  0.],\n",
       "         [ 0.,  4., 16., ..., 16.,  7.,  0.],\n",
       "         ...,\n",
       "         [ 0.,  0.,  0., ..., 16.,  2.,  0.],\n",
       "         [ 0.,  0.,  4., ..., 16.,  2.,  0.],\n",
       "         [ 0.,  0.,  5., ..., 12.,  0.,  0.]],\n",
       " \n",
       "        [[ 0.,  0., 10., ...,  1.,  0.,  0.],\n",
       "         [ 0.,  2., 16., ...,  1.,  0.,  0.],\n",
       "         [ 0.,  0., 15., ..., 15.,  0.,  0.],\n",
       "         ...,\n",
       "         [ 0.,  4., 16., ..., 16.,  6.,  0.],\n",
       "         [ 0.,  8., 16., ..., 16.,  8.,  0.],\n",
       "         [ 0.,  1.,  8., ..., 12.,  1.,  0.]]]),\n",
       " 'DESCR': \".. _digits_dataset:\\n\\nOptical recognition of handwritten digits dataset\\n--------------------------------------------------\\n\\n**Data Set Characteristics:**\\n\\n    :Number of Instances: 1797\\n    :Number of Attributes: 64\\n    :Attribute Information: 8x8 image of integer pixels in the range 0..16.\\n    :Missing Attribute Values: None\\n    :Creator: E. Alpaydin (alpaydin '@' boun.edu.tr)\\n    :Date: July; 1998\\n\\nThis is a copy of the test set of the UCI ML hand-written digits datasets\\nhttps://archive.ics.uci.edu/ml/datasets/Optical+Recognition+of+Handwritten+Digits\\n\\nThe data set contains images of hand-written digits: 10 classes where\\neach class refers to a digit.\\n\\nPreprocessing programs made available by NIST were used to extract\\nnormalized bitmaps of handwritten digits from a preprinted form. From a\\ntotal of 43 people, 30 contributed to the training set and different 13\\nto the test set. 32x32 bitmaps are divided into nonoverlapping blocks of\\n4x4 and the number of on pixels are counted in each block. This generates\\nan input matrix of 8x8 where each element is an integer in the range\\n0..16. This reduces dimensionality and gives invariance to small\\ndistortions.\\n\\nFor info on NIST preprocessing routines, see M. D. Garris, J. L. Blue, G.\\nT. Candela, D. L. Dimmick, J. Geist, P. J. Grother, S. A. Janet, and C.\\nL. Wilson, NIST Form-Based Handprint Recognition System, NISTIR 5469,\\n1994.\\n\\n.. topic:: References\\n\\n  - C. Kaynak (1995) Methods of Combining Multiple Classifiers and Their\\n    Applications to Handwritten Digit Recognition, MSc Thesis, Institute of\\n    Graduate Studies in Science and Engineering, Bogazici University.\\n  - E. Alpaydin, C. Kaynak (1998) Cascading Classifiers, Kybernetika.\\n  - Ken Tang and Ponnuthurai N. Suganthan and Xi Yao and A. Kai Qin.\\n    Linear dimensionalityreduction using relevance weighted LDA. School of\\n    Electrical and Electronic Engineering Nanyang Technological University.\\n    2005.\\n  - Claudio Gentile. A New Approximate Maximal Margin Classification\\n    Algorithm. NIPS. 2000.\\n\"}"
      ]
     },
     "execution_count": 2,
     "metadata": {},
     "output_type": "execute_result"
    }
   ],
   "source": [
    "data=load_digits()\n",
    "data"
   ]
  },
  {
   "cell_type": "code",
   "execution_count": 3,
   "id": "f95e7a31-d547-4f00-bc8c-2b4d72d12252",
   "metadata": {
    "scrolled": true
   },
   "outputs": [
    {
     "data": {
      "image/png": "[encoded data removed]",
      "text/plain": [
       "<Figure size 500x300 with 1 Axes>"
      ]
     },
     "metadata": {},
     "output_type": "display_data"
    },
    {
     "data": {
      "image/png": "[encoded data removed]",
      "text/plain": [
       "<Figure size 500x300 with 1 Axes>"
      ]
     },
     "metadata": {},
     "output_type": "display_data"
    },
    {
     "data": {
      "image/png": "[encoded data removed]",
      "text/plain": [
       "<Figure size 500x300 with 1 Axes>"
      ]
     },
     "metadata": {},
     "output_type": "display_data"
    },
    {
     "data": {
      "image/png": "[encoded data removed]",
      "text/plain": [
       "<Figure size 500x300 with 1 Axes>"
      ]
     },
     "metadata": {},
     "output_type": "display_data"
    }
   ],
   "source": [
    "import matplotlib.pyplot as plt\n",
    "%matplotlib inline\n",
    "\n",
    "\n",
    "for i in range (0,4):\n",
    "    plt.figure(figsize=(5,3))\n",
    "    plt.imshow(data.images[i])\n",
    "    plt.show()\n",
    "   \n",
    "\n",
    "    "
   ]
  },
  {
   "cell_type": "code",
   "execution_count": 4,
   "id": "158af50c-2f43-4bde-a0e0-9c691274543e",
   "metadata": {},
   "outputs": [
    {
     "data": {
      "text/html": [
       "<div>\n",
       "<style scoped>\n",
       "    .dataframe tbody tr th:only-of-type {\n",
       "        vertical-align: middle;\n",
       "    }\n",
       "\n",
       "    .dataframe tbody tr th {\n",
       "        vertical-align: top;\n",
       "    }\n",
       "\n",
       "    .dataframe thead th {\n",
       "        text-align: right;\n",
       "    }\n",
       "</style>\n",
       "<table border=\"1\" class=\"dataframe\">\n",
       "  <thead>\n",
       "    <tr style=\"text-align: right;\">\n",
       "      <th></th>\n",
       "      <th>pixel_0_0</th>\n",
       "      <th>pixel_0_1</th>\n",
       "      <th>pixel_0_2</th>\n",
       "      <th>pixel_0_3</th>\n",
       "      <th>pixel_0_4</th>\n",
       "      <th>pixel_0_5</th>\n",
       "      <th>pixel_0_6</th>\n",
       "      <th>pixel_0_7</th>\n",
       "      <th>pixel_1_0</th>\n",
       "      <th>pixel_1_1</th>\n",
       "      <th>...</th>\n",
       "      <th>pixel_6_6</th>\n",
       "      <th>pixel_6_7</th>\n",
       "      <th>pixel_7_0</th>\n",
       "      <th>pixel_7_1</th>\n",
       "      <th>pixel_7_2</th>\n",
       "      <th>pixel_7_3</th>\n",
       "      <th>pixel_7_4</th>\n",
       "      <th>pixel_7_5</th>\n",
       "      <th>pixel_7_6</th>\n",
       "      <th>pixel_7_7</th>\n",
       "    </tr>\n",
       "  </thead>\n",
       "  <tbody>\n",
       "    <tr>\n",
       "      <th>0</th>\n",
       "      <td>0.0</td>\n",
       "      <td>0.0</td>\n",
       "      <td>5.0</td>\n",
       "      <td>13.0</td>\n",
       "      <td>9.0</td>\n",
       "      <td>1.0</td>\n",
       "      <td>0.0</td>\n",
       "      <td>0.0</td>\n",
       "      <td>0.0</td>\n",
       "      <td>0.0</td>\n",
       "      <td>...</td>\n",
       "      <td>0.0</td>\n",
       "      <td>0.0</td>\n",
       "      <td>0.0</td>\n",
       "      <td>0.0</td>\n",
       "      <td>6.0</td>\n",
       "      <td>13.0</td>\n",
       "      <td>10.0</td>\n",
       "      <td>0.0</td>\n",
       "      <td>0.0</td>\n",
       "      <td>0.0</td>\n",
       "    </tr>\n",
       "    <tr>\n",
       "      <th>1</th>\n",
       "      <td>0.0</td>\n",
       "      <td>0.0</td>\n",
       "      <td>0.0</td>\n",
       "      <td>12.0</td>\n",
       "      <td>13.0</td>\n",
       "      <td>5.0</td>\n",
       "      <td>0.0</td>\n",
       "      <td>0.0</td>\n",
       "      <td>0.0</td>\n",
       "      <td>0.0</td>\n",
       "      <td>...</td>\n",
       "      <td>0.0</td>\n",
       "      <td>0.0</td>\n",
       "      <td>0.0</td>\n",
       "      <td>0.0</td>\n",
       "      <td>0.0</td>\n",
       "      <td>11.0</td>\n",
       "      <td>16.0</td>\n",
       "      <td>10.0</td>\n",
       "      <td>0.0</td>\n",
       "      <td>0.0</td>\n",
       "    </tr>\n",
       "  </tbody>\n",
       "</table>\n",
       "<p>2 rows × 64 columns</p>\n",
       "</div>"
      ],
      "text/plain": [
       "   pixel_0_0  pixel_0_1  pixel_0_2  pixel_0_3  pixel_0_4  pixel_0_5  \\\n",
       "0        0.0        0.0        5.0       13.0        9.0        1.0   \n",
       "1        0.0        0.0        0.0       12.0       13.0        5.0   \n",
       "\n",
       "   pixel_0_6  pixel_0_7  pixel_1_0  pixel_1_1  ...  pixel_6_6  pixel_6_7  \\\n",
       "0        0.0        0.0        0.0        0.0  ...        0.0        0.0   \n",
       "1        0.0        0.0        0.0        0.0  ...        0.0        0.0   \n",
       "\n",
       "   pixel_7_0  pixel_7_1  pixel_7_2  pixel_7_3  pixel_7_4  pixel_7_5  \\\n",
       "0        0.0        0.0        6.0       13.0       10.0        0.0   \n",
       "1        0.0        0.0        0.0       11.0       16.0       10.0   \n",
       "\n",
       "   pixel_7_6  pixel_7_7  \n",
       "0        0.0        0.0  \n",
       "1        0.0        0.0  \n",
       "\n",
       "[2 rows x 64 columns]"
      ]
     },
     "execution_count": 4,
     "metadata": {},
     "output_type": "execute_result"
    }
   ],
   "source": [
    "import pandas as pd \n",
    "dataset=pd.DataFrame(data.data,columns=data.feature_names)\n",
    "dataset.head(2)"
   ]
  },
  {
   "cell_type": "code",
   "execution_count": 5,
   "id": "0c42acea-bf0e-4a83-94fa-054f6f365587",
   "metadata": {},
   "outputs": [
    {
     "data": {
      "text/plain": [
       "(1797, 64)"
      ]
     },
     "execution_count": 5,
     "metadata": {},
     "output_type": "execute_result"
    }
   ],
   "source": [
    "dataset.shape"
   ]
  },
  {
   "cell_type": "code",
   "execution_count": 6,
   "id": "699dc9c5-5966-4956-bdb8-b8d390f21037",
   "metadata": {},
   "outputs": [
    {
     "data": {
      "text/html": [
       "<div>\n",
       "<style scoped>\n",
       "    .dataframe tbody tr th:only-of-type {\n",
       "        vertical-align: middle;\n",
       "    }\n",
       "\n",
       "    .dataframe tbody tr th {\n",
       "        vertical-align: top;\n",
       "    }\n",
       "\n",
       "    .dataframe thead th {\n",
       "        text-align: right;\n",
       "    }\n",
       "</style>\n",
       "<table border=\"1\" class=\"dataframe\">\n",
       "  <thead>\n",
       "    <tr style=\"text-align: right;\">\n",
       "      <th></th>\n",
       "      <th>pixel_0_0</th>\n",
       "      <th>pixel_0_1</th>\n",
       "      <th>pixel_0_2</th>\n",
       "      <th>pixel_0_3</th>\n",
       "      <th>pixel_0_4</th>\n",
       "      <th>pixel_0_5</th>\n",
       "      <th>pixel_0_6</th>\n",
       "      <th>pixel_0_7</th>\n",
       "      <th>pixel_1_0</th>\n",
       "      <th>pixel_1_1</th>\n",
       "      <th>...</th>\n",
       "      <th>pixel_6_6</th>\n",
       "      <th>pixel_6_7</th>\n",
       "      <th>pixel_7_0</th>\n",
       "      <th>pixel_7_1</th>\n",
       "      <th>pixel_7_2</th>\n",
       "      <th>pixel_7_3</th>\n",
       "      <th>pixel_7_4</th>\n",
       "      <th>pixel_7_5</th>\n",
       "      <th>pixel_7_6</th>\n",
       "      <th>pixel_7_7</th>\n",
       "    </tr>\n",
       "  </thead>\n",
       "  <tbody>\n",
       "    <tr>\n",
       "      <th>0</th>\n",
       "      <td>0.0</td>\n",
       "      <td>0.0</td>\n",
       "      <td>5.0</td>\n",
       "      <td>13.0</td>\n",
       "      <td>9.0</td>\n",
       "      <td>1.0</td>\n",
       "      <td>0.0</td>\n",
       "      <td>0.0</td>\n",
       "      <td>0.0</td>\n",
       "      <td>0.0</td>\n",
       "      <td>...</td>\n",
       "      <td>0.0</td>\n",
       "      <td>0.0</td>\n",
       "      <td>0.0</td>\n",
       "      <td>0.0</td>\n",
       "      <td>6.0</td>\n",
       "      <td>13.0</td>\n",
       "      <td>10.0</td>\n",
       "      <td>0.0</td>\n",
       "      <td>0.0</td>\n",
       "      <td>0.0</td>\n",
       "    </tr>\n",
       "  </tbody>\n",
       "</table>\n",
       "<p>1 rows × 64 columns</p>\n",
       "</div>"
      ],
      "text/plain": [
       "   pixel_0_0  pixel_0_1  pixel_0_2  pixel_0_3  pixel_0_4  pixel_0_5  \\\n",
       "0        0.0        0.0        5.0       13.0        9.0        1.0   \n",
       "\n",
       "   pixel_0_6  pixel_0_7  pixel_1_0  pixel_1_1  ...  pixel_6_6  pixel_6_7  \\\n",
       "0        0.0        0.0        0.0        0.0  ...        0.0        0.0   \n",
       "\n",
       "   pixel_7_0  pixel_7_1  pixel_7_2  pixel_7_3  pixel_7_4  pixel_7_5  \\\n",
       "0        0.0        0.0        6.0       13.0       10.0        0.0   \n",
       "\n",
       "   pixel_7_6  pixel_7_7  \n",
       "0        0.0        0.0  \n",
       "\n",
       "[1 rows x 64 columns]"
      ]
     },
     "execution_count": 6,
     "metadata": {},
     "output_type": "execute_result"
    }
   ],
   "source": [
    "x=dataset\n",
    "x.head(1)"
   ]
  },
  {
   "cell_type": "code",
   "execution_count": 7,
   "id": "0b39850f-ce8f-403d-add3-0217969c5a9c",
   "metadata": {},
   "outputs": [
    {
     "data": {
      "text/plain": [
       "array([0, 1, 2, ..., 8, 9, 8])"
      ]
     },
     "execution_count": 7,
     "metadata": {},
     "output_type": "execute_result"
    }
   ],
   "source": [
    "y=data.target\n",
    "y"
   ]
  },
  {
   "cell_type": "code",
   "execution_count": 9,
   "id": "0d8ae5d9-8478-40ba-ac16-b24217852b6d",
   "metadata": {},
   "outputs": [
    {
     "data": {
      "text/plain": [
       "((1437, 64), (360, 64), (1437,), (360,))"
      ]
     },
     "execution_count": 9,
     "metadata": {},
     "output_type": "execute_result"
    }
   ],
   "source": [
    "from sklearn.model_selection import train_test_split \n",
    "x_train,x_test,y_train,y_test=train_test_split(x,y,test_size=0.2,random_state=42)\n",
    "x_train.shape,x_test.shape,y_train.shape,y_test.shape"
   ]
  },
  {
   "cell_type": "code",
   "execution_count": null,
   "id": "9578a9ae-fe2c-4c78-b626-a77b00c56cd5",
   "metadata": {},
   "outputs": [],
   "source": []
  },
  {
   "cell_type": "code",
   "execution_count": 10,
   "id": "8f157beb-89b7-47ea-8092-ad22cbdf5055",
   "metadata": {},
   "outputs": [],
   "source": [
    "from sklearn.preprocessing import StandardScaler\n",
    "ss=StandardScaler()\n",
    "x_train_scaled=ss.fit_transform(x_train)\n",
    "x_test_scaled=ss.transform(x_test)"
   ]
  },
  {
   "cell_type": "code",
   "execution_count": 31,
   "id": "03da919f-599c-451f-9adc-fe1d654095bf",
   "metadata": {},
   "outputs": [
    {
     "data": {
      "text/html": [
       "<style>#sk-container-id-4 {color: black;background-color: white;}#sk-container-id-4 pre{padding: 0;}#sk-container-id-4 div.sk-toggleable {background-color: white;}#sk-container-id-4 label.sk-toggleable__label {cursor: pointer;display: block;width: 100%;margin-bottom: 0;padding: 0.3em;box-sizing: border-box;text-align: center;}#sk-container-id-4 label.sk-toggleable__label-arrow:before {content: \"▸\";float: left;margin-right: 0.25em;color: #696969;}#sk-container-id-4 label.sk-toggleable__label-arrow:hover:before {color: black;}#sk-container-id-4 div.sk-estimator:hover label.sk-toggleable__label-arrow:before {color: black;}#sk-container-id-4 div.sk-toggleable__content {max-height: 0;max-width: 0;overflow: hidden;text-align: left;background-color: #f0f8ff;}#sk-container-id-4 div.sk-toggleable__content pre {margin: 0.2em;color: black;border-radius: 0.25em;background-color: #f0f8ff;}#sk-container-id-4 input.sk-toggleable__control:checked~div.sk-toggleable__content {max-height: 200px;max-width: 100%;overflow: auto;}#sk-container-id-4 input.sk-toggleable__control:checked~label.sk-toggleable__label-arrow:before {content: \"▾\";}#sk-container-id-4 div.sk-estimator input.sk-toggleable__control:checked~label.sk-toggleable__label {background-color: #d4ebff;}#sk-container-id-4 div.sk-label input.sk-toggleable__control:checked~label.sk-toggleable__label {background-color: #d4ebff;}#sk-container-id-4 input.sk-hidden--visually {border: 0;clip: rect(1px 1px 1px 1px);clip: rect(1px, 1px, 1px, 1px);height: 1px;margin: -1px;overflow: hidden;padding: 0;position: absolute;width: 1px;}#sk-container-id-4 div.sk-estimator {font-family: monospace;background-color: #f0f8ff;border: 1px dotted black;border-radius: 0.25em;box-sizing: border-box;margin-bottom: 0.5em;}#sk-container-id-4 div.sk-estimator:hover {background-color: #d4ebff;}#sk-container-id-4 div.sk-parallel-item::after {content: \"\";width: 100%;border-bottom: 1px solid gray;flex-grow: 1;}#sk-container-id-4 div.sk-label:hover label.sk-toggleable__label {background-color: #d4ebff;}#sk-container-id-4 div.sk-serial::before {content: \"\";position: absolute;border-left: 1px solid gray;box-sizing: border-box;top: 0;bottom: 0;left: 50%;z-index: 0;}#sk-container-id-4 div.sk-serial {display: flex;flex-direction: column;align-items: center;background-color: white;padding-right: 0.2em;padding-left: 0.2em;position: relative;}#sk-container-id-4 div.sk-item {position: relative;z-index: 1;}#sk-container-id-4 div.sk-parallel {display: flex;align-items: stretch;justify-content: center;background-color: white;position: relative;}#sk-container-id-4 div.sk-item::before, #sk-container-id-4 div.sk-parallel-item::before {content: \"\";position: absolute;border-left: 1px solid gray;box-sizing: border-box;top: 0;bottom: 0;left: 50%;z-index: -1;}#sk-container-id-4 div.sk-parallel-item {display: flex;flex-direction: column;z-index: 1;position: relative;background-color: white;}#sk-container-id-4 div.sk-parallel-item:first-child::after {align-self: flex-end;width: 50%;}#sk-container-id-4 div.sk-parallel-item:last-child::after {align-self: flex-start;width: 50%;}#sk-container-id-4 div.sk-parallel-item:only-child::after {width: 0;}#sk-container-id-4 div.sk-dashed-wrapped {border: 1px dashed gray;margin: 0 0.4em 0.5em 0.4em;box-sizing: border-box;padding-bottom: 0.4em;background-color: white;}#sk-container-id-4 div.sk-label label {font-family: monospace;font-weight: bold;display: inline-block;line-height: 1.2em;}#sk-container-id-4 div.sk-label-container {text-align: center;}#sk-container-id-4 div.sk-container {/* jupyter's `normalize.less` sets `[hidden] { display: none; }` but bootstrap.min.css set `[hidden] { display: none !important; }` so we also need the `!important` here to be able to override the default hidden behavior on the sphinx rendered scikit-learn.org. See: https://github.com/scikit-learn/scikit-learn/issues/21755 */display: inline-block !important;position: relative;}#sk-container-id-4 div.sk-text-repr-fallback {display: none;}</style><div id=\"sk-container-id-4\" class=\"sk-top-container\"><div class=\"sk-text-repr-fallback\"><pre>RandomForestClassifier(max_depth=7, n_estimators=80, random_state=42)</pre><b>In a Jupyter environment, please rerun this cell to show the HTML representation or trust the notebook. <br />On GitHub, the HTML representation is unable to render, please try loading this page with nbviewer.org.</b></div><div class=\"sk-container\" hidden><div class=\"sk-item\"><div class=\"sk-estimator sk-toggleable\"><input class=\"sk-toggleable__control sk-hidden--visually\" id=\"sk-estimator-id-4\" type=\"checkbox\" checked><label for=\"sk-estimator-id-4\" class=\"sk-toggleable__label sk-toggleable__label-arrow\">RandomForestClassifier</label><div class=\"sk-toggleable__content\"><pre>RandomForestClassifier(max_depth=7, n_estimators=80, random_state=42)</pre></div></div></div></div></div>"
      ],
      "text/plain": [
       "RandomForestClassifier(max_depth=7, n_estimators=80, random_state=42)"
      ]
     },
     "execution_count": 31,
     "metadata": {},
     "output_type": "execute_result"
    }
   ],
   "source": [
    "from sklearn.ensemble import RandomForestClassifier\n",
    "r=RandomForestClassifier(n_estimators=80,max_depth=7,random_state=42)\n",
    "r.fit(x_train_scaled,y_train)"
   ]
  },
  {
   "cell_type": "code",
   "execution_count": 32,
   "id": "f8ee101b-ee84-43e6-9a78-3dd6bac60757",
   "metadata": {},
   "outputs": [],
   "source": [
    "import matplotlib.pyplot as plt \n",
    "%matplotlib inline"
   ]
  },
  {
   "cell_type": "code",
   "execution_count": 33,
   "id": "8908b018-abdf-428d-82e7-50eddc2defd1",
   "metadata": {},
   "outputs": [],
   "source": [
    "single_tree = r.estimators_[2]"
   ]
  },
  {
   "cell_type": "code",
   "execution_count": 39,
   "id": "5c37a61d-a957-4cf7-8f50-318655993d36",
   "metadata": {},
   "outputs": [
    {
     "data": {
      "text/plain": [
       "[Text(0.429788961038961, 0.9375, 'x[43] <= -0.747\\ngini = 0.899\\nsamples = 919\\nvalue = [130, 161, 122, 146, 142, 139, 147, 148, 162, 140]'),\n",
       " Text(0.21022727272727273, 0.8125, 'x[33] <= 0.364\\ngini = 0.809\\nsamples = 345\\nvalue = [103, 33, 5, 134, 5, 88, 10, 8, 19, 127]'),\n",
       " Text(0.11201298701298701, 0.6875, 'x[18] <= -0.75\\ngini = 0.735\\nsamples = 252\\nvalue = [3, 29, 5, 134, 0, 64, 0, 6, 18, 127]'),\n",
       " Text(0.03571428571428571, 0.5625, 'x[59] <= -0.701\\ngini = 0.356\\nsamples = 73\\nvalue = [0, 5, 3, 93, 0, 0, 0, 1, 5, 10]'),\n",
       " Text(0.01948051948051948, 0.4375, 'x[42] <= -0.132\\ngini = 0.7\\nsamples = 8\\nvalue = [0, 3, 0, 0, 0, 0, 0, 1, 4, 2]'),\n",
       " Text(0.012987012987012988, 0.3125, 'x[3] <= -2.292\\ngini = 0.611\\nsamples = 5\\nvalue = [0, 3, 0, 0, 0, 0, 0, 1, 0, 2]'),\n",
       " Text(0.006493506493506494, 0.1875, 'gini = 0.0\\nsamples = 3\\nvalue = [0, 3, 0, 0, 0, 0, 0, 0, 0, 0]'),\n",
       " Text(0.01948051948051948, 0.1875, 'x[58] <= 0.28\\ngini = 0.444\\nsamples = 2\\nvalue = [0, 0, 0, 0, 0, 0, 0, 1, 0, 2]'),\n",
       " Text(0.012987012987012988, 0.0625, 'gini = 0.0\\nsamples = 1\\nvalue = [0, 0, 0, 0, 0, 0, 0, 1, 0, 0]'),\n",
       " Text(0.025974025974025976, 0.0625, 'gini = 0.0\\nsamples = 1\\nvalue = [0, 0, 0, 0, 0, 0, 0, 0, 0, 2]'),\n",
       " Text(0.025974025974025976, 0.3125, 'gini = 0.0\\nsamples = 3\\nvalue = [0, 0, 0, 0, 0, 0, 0, 0, 4, 0]'),\n",
       " Text(0.05194805194805195, 0.4375, 'x[62] <= 1.546\\ngini = 0.238\\nsamples = 65\\nvalue = [0, 2, 3, 93, 0, 0, 0, 0, 1, 8]'),\n",
       " Text(0.03896103896103896, 0.3125, 'x[28] <= -0.229\\ngini = 0.08\\nsamples = 58\\nvalue = [0, 0, 0, 93, 0, 0, 0, 0, 1, 3]'),\n",
       " Text(0.032467532467532464, 0.1875, 'gini = 0.0\\nsamples = 1\\nvalue = [0, 0, 0, 0, 0, 0, 0, 0, 0, 3]'),\n",
       " Text(0.045454545454545456, 0.1875, 'x[38] <= -0.671\\ngini = 0.021\\nsamples = 57\\nvalue = [0, 0, 0, 93, 0, 0, 0, 0, 1, 0]'),\n",
       " Text(0.03896103896103896, 0.0625, 'gini = 0.049\\nsamples = 25\\nvalue = [0, 0, 0, 39, 0, 0, 0, 0, 1, 0]'),\n",
       " Text(0.05194805194805195, 0.0625, 'gini = 0.0\\nsamples = 32\\nvalue = [0, 0, 0, 54, 0, 0, 0, 0, 0, 0]'),\n",
       " Text(0.06493506493506493, 0.3125, 'x[63] <= 4.337\\ngini = 0.62\\nsamples = 7\\nvalue = [0, 2, 3, 0, 0, 0, 0, 0, 0, 5]'),\n",
       " Text(0.05844155844155844, 0.1875, 'gini = 0.0\\nsamples = 3\\nvalue = [0, 0, 0, 0, 0, 0, 0, 0, 0, 5]'),\n",
       " Text(0.07142857142857142, 0.1875, 'x[44] <= 0.29\\ngini = 0.48\\nsamples = 4\\nvalue = [0, 2, 3, 0, 0, 0, 0, 0, 0, 0]'),\n",
       " Text(0.06493506493506493, 0.0625, 'gini = 0.0\\nsamples = 2\\nvalue = [0, 2, 0, 0, 0, 0, 0, 0, 0, 0]'),\n",
       " Text(0.07792207792207792, 0.0625, 'gini = 0.0\\nsamples = 2\\nvalue = [0, 0, 3, 0, 0, 0, 0, 0, 0, 0]'),\n",
       " Text(0.18831168831168832, 0.5625, 'x[52] <= 0.388\\ngini = 0.72\\nsamples = 179\\nvalue = [3, 24, 2, 41, 0, 64, 0, 5, 13, 117]'),\n",
       " Text(0.13636363636363635, 0.4375, 'x[21] <= 0.094\\ngini = 0.614\\nsamples = 118\\nvalue = [2, 7, 0, 34, 0, 31, 0, 1, 4, 103]'),\n",
       " Text(0.11038961038961038, 0.3125, 'x[58] <= 0.572\\ngini = 0.552\\nsamples = 35\\nvalue = [0, 0, 0, 17, 0, 31, 0, 1, 2, 2]'),\n",
       " Text(0.09740259740259741, 0.1875, 'x[25] <= 1.844\\ngini = 0.546\\nsamples = 17\\nvalue = [0, 0, 0, 17, 0, 6, 0, 1, 2, 1]'),\n",
       " Text(0.09090909090909091, 0.0625, 'gini = 0.435\\nsamples = 14\\nvalue = [0, 0, 0, 17, 0, 2, 0, 1, 2, 1]'),\n",
       " Text(0.1038961038961039, 0.0625, 'gini = 0.0\\nsamples = 3\\nvalue = [0, 0, 0, 0, 0, 4, 0, 0, 0, 0]'),\n",
       " Text(0.12337662337662338, 0.1875, 'x[20] <= 0.628\\ngini = 0.074\\nsamples = 18\\nvalue = [0, 0, 0, 0, 0, 25, 0, 0, 0, 1]'),\n",
       " Text(0.11688311688311688, 0.0625, 'gini = 0.0\\nsamples = 17\\nvalue = [0, 0, 0, 0, 0, 25, 0, 0, 0, 0]'),\n",
       " Text(0.12987012987012986, 0.0625, 'gini = 0.0\\nsamples = 1\\nvalue = [0, 0, 0, 0, 0, 0, 0, 0, 0, 1]'),\n",
       " Text(0.16233766233766234, 0.3125, 'x[17] <= 2.246\\ngini = 0.366\\nsamples = 83\\nvalue = [2, 7, 0, 17, 0, 0, 0, 0, 2, 101]'),\n",
       " Text(0.14935064935064934, 0.1875, 'x[5] <= 1.537\\ngini = 0.296\\nsamples = 79\\nvalue = [2, 4, 0, 12, 0, 0, 0, 0, 2, 99]'),\n",
       " Text(0.14285714285714285, 0.0625, 'gini = 0.239\\nsamples = 73\\nvalue = [2, 1, 0, 10, 0, 0, 0, 0, 2, 98]'),\n",
       " Text(0.15584415584415584, 0.0625, 'gini = 0.611\\nsamples = 6\\nvalue = [0, 3, 0, 2, 0, 0, 0, 0, 0, 1]'),\n",
       " Text(0.17532467532467533, 0.1875, 'x[36] <= -0.395\\ngini = 0.62\\nsamples = 4\\nvalue = [0, 3, 0, 5, 0, 0, 0, 0, 0, 2]'),\n",
       " Text(0.16883116883116883, 0.0625, 'gini = 0.48\\nsamples = 2\\nvalue = [0, 3, 0, 0, 0, 0, 0, 0, 0, 2]'),\n",
       " Text(0.18181818181818182, 0.0625, 'gini = 0.0\\nsamples = 2\\nvalue = [0, 0, 0, 5, 0, 0, 0, 0, 0, 0]'),\n",
       " Text(0.24025974025974026, 0.4375, 'x[61] <= 0.968\\ngini = 0.772\\nsamples = 61\\nvalue = [1, 17, 2, 7, 0, 33, 0, 4, 9, 14]'),\n",
       " Text(0.21428571428571427, 0.3125, 'x[22] <= -0.096\\ngini = 0.681\\nsamples = 46\\nvalue = [1, 1, 0, 6, 0, 33, 0, 4, 7, 14]'),\n",
       " Text(0.2012987012987013, 0.1875, 'x[9] <= 1.094\\ngini = 0.543\\nsamples = 35\\nvalue = [0, 1, 0, 5, 0, 33, 0, 0, 7, 5]'),\n",
       " Text(0.19480519480519481, 0.0625, 'gini = 0.471\\nsamples = 29\\nvalue = [0, 1, 0, 1, 0, 31, 0, 0, 6, 5]'),\n",
       " Text(0.2077922077922078, 0.0625, 'gini = 0.571\\nsamples = 6\\nvalue = [0, 0, 0, 4, 0, 2, 0, 0, 1, 0]'),\n",
       " Text(0.22727272727272727, 0.1875, 'x[21] <= 0.577\\ngini = 0.56\\nsamples = 11\\nvalue = [1, 0, 0, 1, 0, 0, 0, 4, 0, 9]'),\n",
       " Text(0.22077922077922077, 0.0625, 'gini = 0.5\\nsamples = 4\\nvalue = [1, 0, 0, 1, 0, 0, 0, 4, 0, 0]'),\n",
       " Text(0.23376623376623376, 0.0625, 'gini = 0.0\\nsamples = 7\\nvalue = [0, 0, 0, 0, 0, 0, 0, 0, 0, 9]'),\n",
       " Text(0.2662337662337662, 0.3125, 'x[28] <= -0.716\\ngini = 0.399\\nsamples = 15\\nvalue = [0, 16, 2, 1, 0, 0, 0, 0, 2, 0]'),\n",
       " Text(0.2532467532467532, 0.1875, 'x[5] <= 0.738\\ngini = 0.5\\nsamples = 3\\nvalue = [0, 0, 2, 0, 0, 0, 0, 0, 2, 0]'),\n",
       " Text(0.24675324675324675, 0.0625, 'gini = 0.0\\nsamples = 2\\nvalue = [0, 0, 2, 0, 0, 0, 0, 0, 0, 0]'),\n",
       " Text(0.2597402597402597, 0.0625, 'gini = 0.0\\nsamples = 1\\nvalue = [0, 0, 0, 0, 0, 0, 0, 0, 2, 0]'),\n",
       " Text(0.2792207792207792, 0.1875, 'x[9] <= 0.161\\ngini = 0.111\\nsamples = 12\\nvalue = [0, 16, 0, 1, 0, 0, 0, 0, 0, 0]'),\n",
       " Text(0.2727272727272727, 0.0625, 'gini = 0.0\\nsamples = 11\\nvalue = [0, 16, 0, 0, 0, 0, 0, 0, 0, 0]'),\n",
       " Text(0.2857142857142857, 0.0625, 'gini = 0.0\\nsamples = 1\\nvalue = [0, 0, 0, 1, 0, 0, 0, 0, 0, 0]'),\n",
       " Text(0.30844155844155846, 0.6875, 'x[36] <= -1.576\\ngini = 0.497\\nsamples = 93\\nvalue = [100, 4, 0, 0, 5, 24, 10, 2, 1, 0]'),\n",
       " Text(0.2922077922077922, 0.5625, 'x[21] <= -0.79\\ngini = 0.02\\nsamples = 67\\nvalue = [100, 0, 0, 0, 0, 1, 0, 0, 0, 0]'),\n",
       " Text(0.2857142857142857, 0.4375, 'x[53] <= 0.772\\ngini = 0.245\\nsamples = 5\\nvalue = [6, 0, 0, 0, 0, 1, 0, 0, 0, 0]'),\n",
       " Text(0.2792207792207792, 0.3125, 'gini = 0.0\\nsamples = 4\\nvalue = [6, 0, 0, 0, 0, 0, 0, 0, 0, 0]'),\n",
       " Text(0.2922077922077922, 0.3125, 'gini = 0.0\\nsamples = 1\\nvalue = [0, 0, 0, 0, 0, 1, 0, 0, 0, 0]'),\n",
       " Text(0.2987012987012987, 0.4375, 'gini = 0.0\\nsamples = 62\\nvalue = [94, 0, 0, 0, 0, 0, 0, 0, 0, 0]'),\n",
       " Text(0.3246753246753247, 0.5625, 'x[13] <= -1.274\\ngini = 0.667\\nsamples = 26\\nvalue = [0, 4, 0, 0, 5, 23, 10, 2, 1, 0]'),\n",
       " Text(0.3116883116883117, 0.4375, 'x[52] <= -0.47\\ngini = 0.602\\nsamples = 9\\nvalue = [0, 0, 0, 0, 5, 3, 9, 0, 0, 0]'),\n",
       " Text(0.3051948051948052, 0.3125, 'x[10] <= 0.859\\ngini = 0.375\\nsamples = 5\\nvalue = [0, 0, 0, 0, 0, 3, 9, 0, 0, 0]'),\n",
       " Text(0.2987012987012987, 0.1875, 'gini = 0.0\\nsamples = 4\\nvalue = [0, 0, 0, 0, 0, 0, 9, 0, 0, 0]'),\n",
       " Text(0.3116883116883117, 0.1875, 'gini = 0.0\\nsamples = 1\\nvalue = [0, 0, 0, 0, 0, 3, 0, 0, 0, 0]'),\n",
       " Text(0.3181818181818182, 0.3125, 'gini = 0.0\\nsamples = 4\\nvalue = [0, 0, 0, 0, 5, 0, 0, 0, 0, 0]'),\n",
       " Text(0.33766233766233766, 0.4375, 'x[9] <= -0.462\\ngini = 0.462\\nsamples = 17\\nvalue = [0, 4, 0, 0, 0, 20, 1, 2, 1, 0]'),\n",
       " Text(0.33116883116883117, 0.3125, 'x[10] <= -0.058\\ngini = 0.704\\nsamples = 11\\nvalue = [0, 4, 0, 0, 0, 6, 1, 2, 1, 0]'),\n",
       " Text(0.3246753246753247, 0.1875, 'x[34] <= 1.184\\ngini = 0.656\\nsamples = 6\\nvalue = [0, 4, 0, 0, 0, 0, 1, 2, 1, 0]'),\n",
       " Text(0.3181818181818182, 0.0625, 'gini = 0.0\\nsamples = 2\\nvalue = [0, 3, 0, 0, 0, 0, 0, 0, 0, 0]'),\n",
       " Text(0.33116883116883117, 0.0625, 'gini = 0.72\\nsamples = 4\\nvalue = [0, 1, 0, 0, 0, 0, 1, 2, 1, 0]'),\n",
       " Text(0.33766233766233766, 0.1875, 'gini = 0.0\\nsamples = 5\\nvalue = [0, 0, 0, 0, 0, 6, 0, 0, 0, 0]'),\n",
       " Text(0.34415584415584416, 0.3125, 'gini = 0.0\\nsamples = 6\\nvalue = [0, 0, 0, 0, 0, 14, 0, 0, 0, 0]'),\n",
       " Text(0.6493506493506493, 0.8125, 'x[13] <= -0.62\\ngini = 0.864\\nsamples = 574\\nvalue = [27, 128, 117, 12, 137, 51, 137, 140, 143, 13]'),\n",
       " Text(0.48457792207792205, 0.6875, 'x[62] <= -0.386\\ngini = 0.768\\nsamples = 259\\nvalue = [2, 46, 68, 0, 112, 16, 136, 9, 18, 0]'),\n",
       " Text(0.40584415584415584, 0.5625, 'x[33] <= 0.655\\ngini = 0.652\\nsamples = 124\\nvalue = [1, 28, 3, 0, 112, 16, 24, 9, 10, 0]'),\n",
       " Text(0.37012987012987014, 0.4375, 'x[41] <= 0.66\\ngini = 0.816\\nsamples = 53\\nvalue = [1, 25, 3, 0, 13, 12, 17, 5, 10, 0]'),\n",
       " Text(0.36363636363636365, 0.3125, 'x[12] <= 0.447\\ngini = 0.796\\nsamples = 49\\nvalue = [1, 25, 3, 0, 4, 12, 17, 5, 10, 0]'),\n",
       " Text(0.35064935064935066, 0.1875, 'x[21] <= -0.308\\ngini = 0.734\\nsamples = 24\\nvalue = [0, 0, 0, 0, 4, 12, 15, 2, 9, 0]'),\n",
       " Text(0.34415584415584416, 0.0625, 'gini = 0.627\\nsamples = 18\\nvalue = [0, 0, 0, 0, 3, 12, 15, 2, 0, 0]'),\n",
       " Text(0.35714285714285715, 0.0625, 'gini = 0.18\\nsamples = 6\\nvalue = [0, 0, 0, 0, 1, 0, 0, 0, 9, 0]'),\n",
       " Text(0.37662337662337664, 0.1875, 'x[3] <= -0.075\\ngini = 0.47\\nsamples = 25\\nvalue = [1, 25, 3, 0, 0, 0, 2, 3, 1, 0]'),\n",
       " Text(0.37012987012987014, 0.0625, 'gini = 0.444\\nsamples = 2\\nvalue = [0, 0, 0, 0, 0, 0, 2, 0, 1, 0]'),\n",
       " Text(0.38311688311688313, 0.0625, 'gini = 0.371\\nsamples = 23\\nvalue = [1, 25, 3, 0, 0, 0, 0, 3, 0, 0]'),\n",
       " Text(0.37662337662337664, 0.3125, 'gini = 0.0\\nsamples = 4\\nvalue = [0, 0, 0, 0, 9, 0, 0, 0, 0, 0]'),\n",
       " Text(0.44155844155844154, 0.4375, 'x[58] <= -0.597\\ngini = 0.277\\nsamples = 71\\nvalue = [0, 3, 0, 0, 99, 4, 7, 4, 0, 0]'),\n",
       " Text(0.4155844155844156, 0.3125, 'x[46] <= 0.7\\ngini = 0.04\\nsamples = 61\\nvalue = [0, 1, 0, 0, 97, 0, 1, 0, 0, 0]'),\n",
       " Text(0.4025974025974026, 0.1875, 'x[20] <= 1.197\\ngini = 0.021\\nsamples = 58\\nvalue = [0, 1, 0, 0, 94, 0, 0, 0, 0, 0]'),\n",
       " Text(0.3961038961038961, 0.0625, 'gini = 0.0\\nsamples = 54\\nvalue = [0, 0, 0, 0, 86, 0, 0, 0, 0, 0]'),\n",
       " Text(0.4090909090909091, 0.0625, 'gini = 0.198\\nsamples = 4\\nvalue = [0, 1, 0, 0, 8, 0, 0, 0, 0, 0]'),\n",
       " Text(0.42857142857142855, 0.1875, 'x[50] <= -0.54\\ngini = 0.375\\nsamples = 3\\nvalue = [0, 0, 0, 0, 3, 0, 1, 0, 0, 0]'),\n",
       " Text(0.42207792207792205, 0.0625, 'gini = 0.0\\nsamples = 2\\nvalue = [0, 0, 0, 0, 3, 0, 0, 0, 0, 0]'),\n",
       " Text(0.43506493506493504, 0.0625, 'gini = 0.0\\nsamples = 1\\nvalue = [0, 0, 0, 0, 0, 0, 1, 0, 0, 0]'),\n",
       " Text(0.4675324675324675, 0.3125, 'x[30] <= -0.357\\ngini = 0.765\\nsamples = 10\\nvalue = [0, 2, 0, 0, 2, 4, 6, 4, 0, 0]'),\n",
       " Text(0.45454545454545453, 0.1875, 'x[53] <= -0.309\\ngini = 0.611\\nsamples = 6\\nvalue = [0, 2, 0, 0, 0, 4, 6, 0, 0, 0]'),\n",
       " Text(0.44805194805194803, 0.0625, 'gini = 0.444\\nsamples = 3\\nvalue = [0, 2, 0, 0, 0, 4, 0, 0, 0, 0]'),\n",
       " Text(0.461038961038961, 0.0625, 'gini = 0.0\\nsamples = 3\\nvalue = [0, 0, 0, 0, 0, 0, 6, 0, 0, 0]'),\n",
       " Text(0.4805194805194805, 0.1875, 'x[60] <= -1.913\\ngini = 0.444\\nsamples = 4\\nvalue = [0, 0, 0, 0, 2, 0, 0, 4, 0, 0]'),\n",
       " Text(0.474025974025974, 0.0625, 'gini = 0.0\\nsamples = 2\\nvalue = [0, 0, 0, 0, 0, 0, 0, 4, 0, 0]'),\n",
       " Text(0.487012987012987, 0.0625, 'gini = 0.0\\nsamples = 2\\nvalue = [0, 0, 0, 0, 2, 0, 0, 0, 0, 0]'),\n",
       " Text(0.5633116883116883, 0.5625, 'x[10] <= 0.401\\ngini = 0.588\\nsamples = 135\\nvalue = [1, 18, 65, 0, 0, 0, 112, 0, 8, 0]'),\n",
       " Text(0.5227272727272727, 0.4375, 'x[2] <= -0.567\\ngini = 0.244\\nsamples = 80\\nvalue = [1, 14, 2, 0, 0, 0, 106, 0, 0, 0]'),\n",
       " Text(0.5, 0.3125, 'x[42] <= 0.098\\ngini = 0.075\\nsamples = 66\\nvalue = [1, 3, 0, 0, 0, 0, 100, 0, 0, 0]'),\n",
       " Text(0.4935064935064935, 0.1875, 'gini = 0.0\\nsamples = 1\\nvalue = [0, 3, 0, 0, 0, 0, 0, 0, 0, 0]'),\n",
       " Text(0.5064935064935064, 0.1875, 'x[21] <= -0.067\\ngini = 0.02\\nsamples = 65\\nvalue = [1, 0, 0, 0, 0, 0, 100, 0, 0, 0]'),\n",
       " Text(0.5, 0.0625, 'gini = 0.0\\nsamples = 64\\nvalue = [0, 0, 0, 0, 0, 0, 100, 0, 0, 0]'),\n",
       " Text(0.512987012987013, 0.0625, 'gini = 0.0\\nsamples = 1\\nvalue = [1, 0, 0, 0, 0, 0, 0, 0, 0, 0]'),\n",
       " Text(0.5454545454545454, 0.3125, 'x[33] <= -0.219\\ngini = 0.554\\nsamples = 14\\nvalue = [0, 11, 2, 0, 0, 0, 6, 0, 0, 0]'),\n",
       " Text(0.5324675324675324, 0.1875, 'x[21] <= -1.032\\ngini = 0.298\\nsamples = 8\\nvalue = [0, 9, 2, 0, 0, 0, 0, 0, 0, 0]'),\n",
       " Text(0.525974025974026, 0.0625, 'gini = 0.0\\nsamples = 6\\nvalue = [0, 9, 0, 0, 0, 0, 0, 0, 0, 0]'),\n",
       " Text(0.538961038961039, 0.0625, 'gini = 0.0\\nsamples = 2\\nvalue = [0, 0, 2, 0, 0, 0, 0, 0, 0, 0]'),\n",
       " Text(0.5584415584415584, 0.1875, 'x[41] <= -0.183\\ngini = 0.375\\nsamples = 6\\nvalue = [0, 2, 0, 0, 0, 0, 6, 0, 0, 0]'),\n",
       " Text(0.551948051948052, 0.0625, 'gini = 0.0\\nsamples = 1\\nvalue = [0, 2, 0, 0, 0, 0, 0, 0, 0, 0]'),\n",
       " Text(0.564935064935065, 0.0625, 'gini = 0.0\\nsamples = 5\\nvalue = [0, 0, 0, 0, 0, 0, 6, 0, 0, 0]'),\n",
       " Text(0.6038961038961039, 0.4375, 'x[57] <= 0.237\\ngini = 0.377\\nsamples = 55\\nvalue = [0, 4, 63, 0, 0, 0, 6, 0, 8, 0]'),\n",
       " Text(0.5974025974025974, 0.3125, 'x[45] <= 0.391\\ngini = 0.559\\nsamples = 33\\nvalue = [0, 4, 30, 0, 0, 0, 6, 0, 8, 0]'),\n",
       " Text(0.5844155844155844, 0.1875, 'x[41] <= 0.323\\ngini = 0.251\\nsamples = 27\\nvalue = [0, 4, 30, 0, 0, 0, 1, 0, 0, 0]'),\n",
       " Text(0.577922077922078, 0.0625, 'gini = 0.208\\nsamples = 26\\nvalue = [0, 4, 30, 0, 0, 0, 0, 0, 0, 0]'),\n",
       " Text(0.5909090909090909, 0.0625, 'gini = 0.0\\nsamples = 1\\nvalue = [0, 0, 0, 0, 0, 0, 1, 0, 0, 0]'),\n",
       " Text(0.6103896103896104, 0.1875, 'x[10] <= 0.767\\ngini = 0.473\\nsamples = 6\\nvalue = [0, 0, 0, 0, 0, 0, 5, 0, 8, 0]'),\n",
       " Text(0.6038961038961039, 0.0625, 'gini = 0.0\\nsamples = 3\\nvalue = [0, 0, 0, 0, 0, 0, 5, 0, 0, 0]'),\n",
       " Text(0.6168831168831169, 0.0625, 'gini = 0.0\\nsamples = 3\\nvalue = [0, 0, 0, 0, 0, 0, 0, 0, 8, 0]'),\n",
       " Text(0.6103896103896104, 0.3125, 'gini = 0.0\\nsamples = 22\\nvalue = [0, 0, 33, 0, 0, 0, 0, 0, 0, 0]'),\n",
       " Text(0.8141233766233766, 0.6875, 'x[50] <= -0.186\\ngini = 0.82\\nsamples = 315\\nvalue = [25, 82, 49, 12, 25, 35, 1, 131, 125, 13]'),\n",
       " Text(0.7272727272727273, 0.5625, 'x[28] <= 0.907\\ngini = 0.727\\nsamples = 153\\nvalue = [1, 45, 6, 9, 20, 25, 0, 115, 16, 11]'),\n",
       " Text(0.6753246753246753, 0.4375, 'x[38] <= -0.671\\ngini = 0.635\\nsamples = 102\\nvalue = [1, 2, 5, 6, 14, 23, 0, 95, 15, 5]'),\n",
       " Text(0.6493506493506493, 0.3125, 'x[10] <= 0.859\\ngini = 0.78\\nsamples = 36\\nvalue = [0, 2, 5, 6, 2, 20, 0, 3, 14, 4]'),\n",
       " Text(0.6363636363636364, 0.1875, 'x[45] <= 0.304\\ngini = 0.735\\nsamples = 23\\nvalue = [0, 2, 4, 5, 2, 0, 0, 3, 14, 1]'),\n",
       " Text(0.6298701298701299, 0.0625, 'gini = 0.806\\nsamples = 13\\nvalue = [0, 2, 4, 2, 2, 0, 0, 3, 0, 1]'),\n",
       " Text(0.6428571428571429, 0.0625, 'gini = 0.291\\nsamples = 10\\nvalue = [0, 0, 0, 3, 0, 0, 0, 0, 14, 0]'),\n",
       " Text(0.6623376623376623, 0.1875, 'x[62] <= 1.425\\ngini = 0.342\\nsamples = 13\\nvalue = [0, 0, 1, 1, 0, 20, 0, 0, 0, 3]'),\n",
       " Text(0.6558441558441559, 0.0625, 'gini = 0.288\\nsamples = 12\\nvalue = [0, 0, 0, 1, 0, 20, 0, 0, 0, 3]'),\n",
       " Text(0.6688311688311688, 0.0625, 'gini = 0.0\\nsamples = 1\\nvalue = [0, 0, 1, 0, 0, 0, 0, 0, 0, 0]'),\n",
       " Text(0.7012987012987013, 0.3125, 'x[26] <= 0.572\\ngini = 0.288\\nsamples = 66\\nvalue = [1, 0, 0, 0, 12, 3, 0, 92, 1, 1]'),\n",
       " Text(0.6883116883116883, 0.1875, 'x[36] <= 0.281\\ngini = 0.022\\nsamples = 55\\nvalue = [0, 0, 0, 0, 1, 0, 0, 89, 0, 0]'),\n",
       " Text(0.6818181818181818, 0.0625, 'gini = 0.0\\nsamples = 1\\nvalue = [0, 0, 0, 0, 1, 0, 0, 0, 0, 0]'),\n",
       " Text(0.6948051948051948, 0.0625, 'gini = 0.0\\nsamples = 54\\nvalue = [0, 0, 0, 0, 0, 0, 0, 89, 0, 0]'),\n",
       " Text(0.7142857142857143, 0.1875, 'x[20] <= -0.916\\ngini = 0.645\\nsamples = 11\\nvalue = [1, 0, 0, 0, 11, 3, 0, 3, 1, 1]'),\n",
       " Text(0.7077922077922078, 0.0625, 'gini = 0.612\\nsamples = 3\\nvalue = [1, 0, 0, 0, 0, 3, 0, 3, 0, 0]'),\n",
       " Text(0.7207792207792207, 0.0625, 'gini = 0.272\\nsamples = 8\\nvalue = [0, 0, 0, 0, 11, 0, 0, 0, 1, 1]'),\n",
       " Text(0.7792207792207793, 0.4375, 'x[10] <= -0.333\\ngini = 0.653\\nsamples = 51\\nvalue = [0, 43, 1, 3, 6, 2, 0, 20, 1, 6]'),\n",
       " Text(0.7532467532467533, 0.3125, 'x[34] <= 0.788\\ngini = 0.334\\nsamples = 32\\nvalue = [0, 42, 0, 0, 5, 0, 0, 2, 0, 3]'),\n",
       " Text(0.7402597402597403, 0.1875, 'x[38] <= -0.387\\ngini = 0.05\\nsamples = 25\\nvalue = [0, 38, 0, 0, 0, 0, 0, 1, 0, 0]'),\n",
       " Text(0.7337662337662337, 0.0625, 'gini = 0.0\\nsamples = 23\\nvalue = [0, 37, 0, 0, 0, 0, 0, 0, 0, 0]'),\n",
       " Text(0.7467532467532467, 0.0625, 'gini = 0.5\\nsamples = 2\\nvalue = [0, 1, 0, 0, 0, 0, 0, 1, 0, 0]'),\n",
       " Text(0.7662337662337663, 0.1875, 'x[13] <= 0.689\\ngini = 0.698\\nsamples = 7\\nvalue = [0, 4, 0, 0, 5, 0, 0, 1, 0, 3]'),\n",
       " Text(0.7597402597402597, 0.0625, 'gini = 0.568\\nsamples = 4\\nvalue = [0, 0, 0, 0, 5, 0, 0, 1, 0, 3]'),\n",
       " Text(0.7727272727272727, 0.0625, 'gini = 0.0\\nsamples = 3\\nvalue = [0, 4, 0, 0, 0, 0, 0, 0, 0, 0]'),\n",
       " Text(0.8051948051948052, 0.3125, 'x[17] <= 0.552\\ngini = 0.611\\nsamples = 19\\nvalue = [0, 1, 1, 3, 1, 2, 0, 18, 1, 3]'),\n",
       " Text(0.7922077922077922, 0.1875, 'x[60] <= -0.788\\ngini = 0.367\\nsamples = 14\\nvalue = [0, 1, 0, 3, 1, 0, 0, 18, 0, 0]'),\n",
       " Text(0.7857142857142857, 0.0625, 'gini = 0.1\\nsamples = 11\\nvalue = [0, 0, 0, 0, 1, 0, 0, 18, 0, 0]'),\n",
       " Text(0.7987012987012987, 0.0625, 'gini = 0.375\\nsamples = 3\\nvalue = [0, 1, 0, 3, 0, 0, 0, 0, 0, 0]'),\n",
       " Text(0.8181818181818182, 0.1875, 'x[13] <= -0.456\\ngini = 0.694\\nsamples = 5\\nvalue = [0, 0, 1, 0, 0, 2, 0, 0, 1, 3]'),\n",
       " Text(0.8116883116883117, 0.0625, 'gini = 0.0\\nsamples = 1\\nvalue = [0, 0, 0, 0, 0, 2, 0, 0, 0, 0]'),\n",
       " Text(0.8246753246753247, 0.0625, 'gini = 0.56\\nsamples = 4\\nvalue = [0, 0, 1, 0, 0, 0, 0, 0, 1, 3]'),\n",
       " Text(0.900974025974026, 0.5625, 'x[27] <= 0.104\\ngini = 0.743\\nsamples = 162\\nvalue = [24, 37, 43, 3, 5, 10, 1, 16, 109, 2]'),\n",
       " Text(0.8538961038961039, 0.4375, 'x[36] <= -1.07\\ngini = 0.646\\nsamples = 52\\nvalue = [23, 0, 39, 2, 2, 3, 0, 3, 5, 0]'),\n",
       " Text(0.8376623376623377, 0.3125, 'x[30] <= -0.357\\ngini = 0.08\\nsamples = 15\\nvalue = [23, 0, 0, 0, 0, 1, 0, 0, 0, 0]'),\n",
       " Text(0.8311688311688312, 0.1875, 'gini = 0.0\\nsamples = 1\\nvalue = [0, 0, 0, 0, 0, 1, 0, 0, 0, 0]'),\n",
       " Text(0.8441558441558441, 0.1875, 'gini = 0.0\\nsamples = 14\\nvalue = [23, 0, 0, 0, 0, 0, 0, 0, 0, 0]'),\n",
       " Text(0.8701298701298701, 0.3125, 'x[34] <= -0.323\\ngini = 0.442\\nsamples = 37\\nvalue = [0, 0, 39, 2, 2, 2, 0, 3, 5, 0]'),\n",
       " Text(0.8571428571428571, 0.1875, 'x[38] <= -0.671\\ngini = 0.181\\nsamples = 29\\nvalue = [0, 0, 37, 2, 0, 0, 0, 2, 0, 0]'),\n",
       " Text(0.8506493506493507, 0.0625, 'gini = 0.0\\nsamples = 26\\nvalue = [0, 0, 36, 0, 0, 0, 0, 0, 0, 0]'),\n",
       " Text(0.8636363636363636, 0.0625, 'gini = 0.64\\nsamples = 3\\nvalue = [0, 0, 1, 2, 0, 0, 0, 2, 0, 0]'),\n",
       " Text(0.8831168831168831, 0.1875, 'x[26] <= 0.895\\ngini = 0.736\\nsamples = 8\\nvalue = [0, 0, 2, 0, 2, 2, 0, 1, 5, 0]'),\n",
       " Text(0.8766233766233766, 0.0625, 'gini = 0.531\\nsamples = 5\\nvalue = [0, 0, 2, 0, 0, 0, 0, 1, 5, 0]'),\n",
       " Text(0.8896103896103896, 0.0625, 'gini = 0.5\\nsamples = 3\\nvalue = [0, 0, 0, 0, 2, 2, 0, 0, 0, 0]'),\n",
       " Text(0.948051948051948, 0.4375, 'x[21] <= 0.255\\ngini = 0.585\\nsamples = 110\\nvalue = [1, 37, 4, 1, 3, 7, 1, 13, 104, 2]'),\n",
       " Text(0.922077922077922, 0.3125, 'x[11] <= 0.629\\ngini = 0.734\\nsamples = 42\\nvalue = [0, 27, 4, 1, 0, 7, 1, 8, 14, 1]'),\n",
       " Text(0.9090909090909091, 0.1875, 'x[30] <= 0.853\\ngini = 0.737\\nsamples = 19\\nvalue = [0, 1, 3, 1, 0, 3, 0, 6, 11, 1]'),\n",
       " Text(0.9025974025974026, 0.0625, 'gini = 0.609\\nsamples = 15\\nvalue = [0, 1, 3, 1, 0, 3, 0, 0, 11, 0]'),\n",
       " Text(0.9155844155844156, 0.0625, 'gini = 0.245\\nsamples = 4\\nvalue = [0, 0, 0, 0, 0, 0, 0, 6, 0, 1]'),\n",
       " Text(0.935064935064935, 0.1875, 'x[19] <= 1.43\\ngini = 0.484\\nsamples = 23\\nvalue = [0, 26, 1, 0, 0, 4, 1, 2, 3, 0]'),\n",
       " Text(0.9285714285714286, 0.0625, 'gini = 0.716\\nsamples = 7\\nvalue = [0, 0, 1, 0, 0, 4, 1, 2, 1, 0]'),\n",
       " Text(0.9415584415584416, 0.0625, 'gini = 0.133\\nsamples = 16\\nvalue = [0, 26, 0, 0, 0, 0, 0, 0, 2, 0]'),\n",
       " Text(0.974025974025974, 0.3125, 'x[43] <= 1.28\\ngini = 0.319\\nsamples = 68\\nvalue = [1, 10, 0, 0, 3, 0, 0, 5, 90, 1]'),\n",
       " Text(0.961038961038961, 0.1875, 'x[3] <= 0.858\\ngini = 0.102\\nsamples = 58\\nvalue = [1, 0, 0, 0, 0, 0, 0, 3, 89, 1]'),\n",
       " Text(0.9545454545454546, 0.0625, 'gini = 0.048\\nsamples = 47\\nvalue = [0, 0, 0, 0, 0, 0, 0, 2, 80, 0]'),\n",
       " Text(0.9675324675324676, 0.0625, 'gini = 0.417\\nsamples = 11\\nvalue = [1, 0, 0, 0, 0, 0, 0, 1, 9, 1]'),\n",
       " Text(0.987012987012987, 0.1875, 'x[44] <= 0.13\\ngini = 0.555\\nsamples = 10\\nvalue = [0, 10, 0, 0, 3, 0, 0, 2, 1, 0]'),\n",
       " Text(0.9805194805194806, 0.0625, 'gini = 0.48\\nsamples = 3\\nvalue = [0, 0, 0, 0, 3, 0, 0, 2, 0, 0]'),\n",
       " Text(0.9935064935064936, 0.0625, 'gini = 0.165\\nsamples = 7\\nvalue = [0, 10, 0, 0, 0, 0, 0, 0, 1, 0]')]"
      ]
     },
     "execution_count": 39,
     "metadata": {},
     "output_type": "execute_result"
    },
    {
     "data": {
      "image/png": "[encoded data removed]",
      "text/plain": [
       "<Figure size 640x480 with 1 Axes>"
      ]
     },
     "metadata": {},
     "output_type": "display_data"
    }
   ],
   "source": [
    "from sklearn import tree\n",
    "tree.plot_tree(single_tree,filled=True)\n"
   ]
  },
  {
   "cell_type": "code",
   "execution_count": 35,
   "id": "8b84d7fe-1a6e-4630-a909-8d1dd0225c17",
   "metadata": {},
   "outputs": [
    {
     "data": {
      "text/plain": [
       "0.9937369519832986"
      ]
     },
     "execution_count": 35,
     "metadata": {},
     "output_type": "execute_result"
    }
   ],
   "source": [
    "r.score(x_train_scaled,y_train)"
   ]
  },
  {
   "cell_type": "code",
   "execution_count": 36,
   "id": "525d06fb-5287-46ea-aa20-00cc7e67e337",
   "metadata": {},
   "outputs": [],
   "source": [
    "y_pred=r.predict(x_test_scaled)"
   ]
  },
  {
   "cell_type": "code",
   "execution_count": 37,
   "id": "07270cf6-9c33-4a32-a47b-6c8d9011fefc",
   "metadata": {},
   "outputs": [],
   "source": [
    "from sklearn.metrics import  accuracy_score"
   ]
  },
  {
   "cell_type": "code",
   "execution_count": 38,
   "id": "6432eea0-ca68-4c1f-b973-4b298423e000",
   "metadata": {},
   "outputs": [
    {
     "data": {
      "text/plain": [
       "96.38888888888889"
      ]
     },
     "execution_count": 38,
     "metadata": {},
     "output_type": "execute_result"
    }
   ],
   "source": [
    "accuracy_score(y_test,y_pred)*100"
   ]
  },
  {
   "cell_type": "markdown",
   "id": "1648b9ed-c793-43c3-b45a-c527dac18f26",
   "metadata": {},
   "source": [
    "<h3>using GridSearchcv to finding the best parameter </h3>"
   ]
  },
  {
   "cell_type": "code",
   "execution_count": 94,
   "id": "bd3f283a-be67-4f6f-b016-3de19a10335d",
   "metadata": {},
   "outputs": [],
   "source": [
    "parameter={\n",
    "\"criterion\":[\"gini\",\"entropy\",\"log_loss\"],\n",
    "\"max_depth\" : [1,6,2,3,4,7],\n",
    "\"n_estimators\":[10,20,30,50,60,80,100]\n",
    "\n",
    "}"
   ]
  },
  {
   "cell_type": "code",
   "execution_count": 95,
   "id": "b8c00f32-716b-4103-87d9-a3158782c2ad",
   "metadata": {},
   "outputs": [],
   "source": [
    "from sklearn.model_selection import GridSearchCV"
   ]
  },
  {
   "cell_type": "code",
   "execution_count": 96,
   "id": "194ebf15-f60e-4db9-892e-cbc974926ca4",
   "metadata": {},
   "outputs": [],
   "source": [
    "rf=RandomForestClassifier()\n"
   ]
  },
  {
   "cell_type": "code",
   "execution_count": 97,
   "id": "c5b324a9-6aef-4906-88c1-0a404b5c20ca",
   "metadata": {},
   "outputs": [],
   "source": [
    "g=GridSearchCV(estimator=rf,param_grid=parameter,cv=5)"
   ]
  },
  {
   "cell_type": "code",
   "execution_count": 98,
   "id": "e452a656-7cdf-4106-95a5-9c5bdf3662fa",
   "metadata": {},
   "outputs": [
    {
     "data": {
      "text/html": [
       "<style>#sk-container-id-8 {color: black;background-color: white;}#sk-container-id-8 pre{padding: 0;}#sk-container-id-8 div.sk-toggleable {background-color: white;}#sk-container-id-8 label.sk-toggleable__label {cursor: pointer;display: block;width: 100%;margin-bottom: 0;padding: 0.3em;box-sizing: border-box;text-align: center;}#sk-container-id-8 label.sk-toggleable__label-arrow:before {content: \"▸\";float: left;margin-right: 0.25em;color: #696969;}#sk-container-id-8 label.sk-toggleable__label-arrow:hover:before {color: black;}#sk-container-id-8 div.sk-estimator:hover label.sk-toggleable__label-arrow:before {color: black;}#sk-container-id-8 div.sk-toggleable__content {max-height: 0;max-width: 0;overflow: hidden;text-align: left;background-color: #f0f8ff;}#sk-container-id-8 div.sk-toggleable__content pre {margin: 0.2em;color: black;border-radius: 0.25em;background-color: #f0f8ff;}#sk-container-id-8 input.sk-toggleable__control:checked~div.sk-toggleable__content {max-height: 200px;max-width: 100%;overflow: auto;}#sk-container-id-8 input.sk-toggleable__control:checked~label.sk-toggleable__label-arrow:before {content: \"▾\";}#sk-container-id-8 div.sk-estimator input.sk-toggleable__control:checked~label.sk-toggleable__label {background-color: #d4ebff;}#sk-container-id-8 div.sk-label input.sk-toggleable__control:checked~label.sk-toggleable__label {background-color: #d4ebff;}#sk-container-id-8 input.sk-hidden--visually {border: 0;clip: rect(1px 1px 1px 1px);clip: rect(1px, 1px, 1px, 1px);height: 1px;margin: -1px;overflow: hidden;padding: 0;position: absolute;width: 1px;}#sk-container-id-8 div.sk-estimator {font-family: monospace;background-color: #f0f8ff;border: 1px dotted black;border-radius: 0.25em;box-sizing: border-box;margin-bottom: 0.5em;}#sk-container-id-8 div.sk-estimator:hover {background-color: #d4ebff;}#sk-container-id-8 div.sk-parallel-item::after {content: \"\";width: 100%;border-bottom: 1px solid gray;flex-grow: 1;}#sk-container-id-8 div.sk-label:hover label.sk-toggleable__label {background-color: #d4ebff;}#sk-container-id-8 div.sk-serial::before {content: \"\";position: absolute;border-left: 1px solid gray;box-sizing: border-box;top: 0;bottom: 0;left: 50%;z-index: 0;}#sk-container-id-8 div.sk-serial {display: flex;flex-direction: column;align-items: center;background-color: white;padding-right: 0.2em;padding-left: 0.2em;position: relative;}#sk-container-id-8 div.sk-item {position: relative;z-index: 1;}#sk-container-id-8 div.sk-parallel {display: flex;align-items: stretch;justify-content: center;background-color: white;position: relative;}#sk-container-id-8 div.sk-item::before, #sk-container-id-8 div.sk-parallel-item::before {content: \"\";position: absolute;border-left: 1px solid gray;box-sizing: border-box;top: 0;bottom: 0;left: 50%;z-index: -1;}#sk-container-id-8 div.sk-parallel-item {display: flex;flex-direction: column;z-index: 1;position: relative;background-color: white;}#sk-container-id-8 div.sk-parallel-item:first-child::after {align-self: flex-end;width: 50%;}#sk-container-id-8 div.sk-parallel-item:last-child::after {align-self: flex-start;width: 50%;}#sk-container-id-8 div.sk-parallel-item:only-child::after {width: 0;}#sk-container-id-8 div.sk-dashed-wrapped {border: 1px dashed gray;margin: 0 0.4em 0.5em 0.4em;box-sizing: border-box;padding-bottom: 0.4em;background-color: white;}#sk-container-id-8 div.sk-label label {font-family: monospace;font-weight: bold;display: inline-block;line-height: 1.2em;}#sk-container-id-8 div.sk-label-container {text-align: center;}#sk-container-id-8 div.sk-container {/* jupyter's `normalize.less` sets `[hidden] { display: none; }` but bootstrap.min.css set `[hidden] { display: none !important; }` so we also need the `!important` here to be able to override the default hidden behavior on the sphinx rendered scikit-learn.org. See: https://github.com/scikit-learn/scikit-learn/issues/21755 */display: inline-block !important;position: relative;}#sk-container-id-8 div.sk-text-repr-fallback {display: none;}</style><div id=\"sk-container-id-8\" class=\"sk-top-container\"><div class=\"sk-text-repr-fallback\"><pre>GridSearchCV(cv=5, estimator=RandomForestClassifier(),\n",
       "             param_grid={&#x27;criterion&#x27;: [&#x27;gini&#x27;, &#x27;entropy&#x27;, &#x27;log_loss&#x27;],\n",
       "                         &#x27;max_depth&#x27;: [1, 6, 2, 3, 4, 7],\n",
       "                         &#x27;n_estimators&#x27;: [10, 20, 30, 50, 60, 80, 100]})</pre><b>In a Jupyter environment, please rerun this cell to show the HTML representation or trust the notebook. <br />On GitHub, the HTML representation is unable to render, please try loading this page with nbviewer.org.</b></div><div class=\"sk-container\" hidden><div class=\"sk-item sk-dashed-wrapped\"><div class=\"sk-label-container\"><div class=\"sk-label sk-toggleable\"><input class=\"sk-toggleable__control sk-hidden--visually\" id=\"sk-estimator-id-10\" type=\"checkbox\" ><label for=\"sk-estimator-id-10\" class=\"sk-toggleable__label sk-toggleable__label-arrow\">GridSearchCV</label><div class=\"sk-toggleable__content\"><pre>GridSearchCV(cv=5, estimator=RandomForestClassifier(),\n",
       "             param_grid={&#x27;criterion&#x27;: [&#x27;gini&#x27;, &#x27;entropy&#x27;, &#x27;log_loss&#x27;],\n",
       "                         &#x27;max_depth&#x27;: [1, 6, 2, 3, 4, 7],\n",
       "                         &#x27;n_estimators&#x27;: [10, 20, 30, 50, 60, 80, 100]})</pre></div></div></div><div class=\"sk-parallel\"><div class=\"sk-parallel-item\"><div class=\"sk-item\"><div class=\"sk-label-container\"><div class=\"sk-label sk-toggleable\"><input class=\"sk-toggleable__control sk-hidden--visually\" id=\"sk-estimator-id-11\" type=\"checkbox\" ><label for=\"sk-estimator-id-11\" class=\"sk-toggleable__label sk-toggleable__label-arrow\">estimator: RandomForestClassifier</label><div class=\"sk-toggleable__content\"><pre>RandomForestClassifier()</pre></div></div></div><div class=\"sk-serial\"><div class=\"sk-item\"><div class=\"sk-estimator sk-toggleable\"><input class=\"sk-toggleable__control sk-hidden--visually\" id=\"sk-estimator-id-12\" type=\"checkbox\" ><label for=\"sk-estimator-id-12\" class=\"sk-toggleable__label sk-toggleable__label-arrow\">RandomForestClassifier</label><div class=\"sk-toggleable__content\"><pre>RandomForestClassifier()</pre></div></div></div></div></div></div></div></div></div></div>"
      ],
      "text/plain": [
       "GridSearchCV(cv=5, estimator=RandomForestClassifier(),\n",
       "             param_grid={'criterion': ['gini', 'entropy', 'log_loss'],\n",
       "                         'max_depth': [1, 6, 2, 3, 4, 7],\n",
       "                         'n_estimators': [10, 20, 30, 50, 60, 80, 100]})"
      ]
     },
     "execution_count": 98,
     "metadata": {},
     "output_type": "execute_result"
    }
   ],
   "source": [
    "g.fit(x_train_scaled,y_train)"
   ]
  },
  {
   "cell_type": "code",
   "execution_count": 99,
   "id": "350127e0-7ed4-479b-a659-d14f20690ccc",
   "metadata": {},
   "outputs": [
    {
     "data": {
      "text/html": [
       "<style>#sk-container-id-9 {color: black;background-color: white;}#sk-container-id-9 pre{padding: 0;}#sk-container-id-9 div.sk-toggleable {background-color: white;}#sk-container-id-9 label.sk-toggleable__label {cursor: pointer;display: block;width: 100%;margin-bottom: 0;padding: 0.3em;box-sizing: border-box;text-align: center;}#sk-container-id-9 label.sk-toggleable__label-arrow:before {content: \"▸\";float: left;margin-right: 0.25em;color: #696969;}#sk-container-id-9 label.sk-toggleable__label-arrow:hover:before {color: black;}#sk-container-id-9 div.sk-estimator:hover label.sk-toggleable__label-arrow:before {color: black;}#sk-container-id-9 div.sk-toggleable__content {max-height: 0;max-width: 0;overflow: hidden;text-align: left;background-color: #f0f8ff;}#sk-container-id-9 div.sk-toggleable__content pre {margin: 0.2em;color: black;border-radius: 0.25em;background-color: #f0f8ff;}#sk-container-id-9 input.sk-toggleable__control:checked~div.sk-toggleable__content {max-height: 200px;max-width: 100%;overflow: auto;}#sk-container-id-9 input.sk-toggleable__control:checked~label.sk-toggleable__label-arrow:before {content: \"▾\";}#sk-container-id-9 div.sk-estimator input.sk-toggleable__control:checked~label.sk-toggleable__label {background-color: #d4ebff;}#sk-container-id-9 div.sk-label input.sk-toggleable__control:checked~label.sk-toggleable__label {background-color: #d4ebff;}#sk-container-id-9 input.sk-hidden--visually {border: 0;clip: rect(1px 1px 1px 1px);clip: rect(1px, 1px, 1px, 1px);height: 1px;margin: -1px;overflow: hidden;padding: 0;position: absolute;width: 1px;}#sk-container-id-9 div.sk-estimator {font-family: monospace;background-color: #f0f8ff;border: 1px dotted black;border-radius: 0.25em;box-sizing: border-box;margin-bottom: 0.5em;}#sk-container-id-9 div.sk-estimator:hover {background-color: #d4ebff;}#sk-container-id-9 div.sk-parallel-item::after {content: \"\";width: 100%;border-bottom: 1px solid gray;flex-grow: 1;}#sk-container-id-9 div.sk-label:hover label.sk-toggleable__label {background-color: #d4ebff;}#sk-container-id-9 div.sk-serial::before {content: \"\";position: absolute;border-left: 1px solid gray;box-sizing: border-box;top: 0;bottom: 0;left: 50%;z-index: 0;}#sk-container-id-9 div.sk-serial {display: flex;flex-direction: column;align-items: center;background-color: white;padding-right: 0.2em;padding-left: 0.2em;position: relative;}#sk-container-id-9 div.sk-item {position: relative;z-index: 1;}#sk-container-id-9 div.sk-parallel {display: flex;align-items: stretch;justify-content: center;background-color: white;position: relative;}#sk-container-id-9 div.sk-item::before, #sk-container-id-9 div.sk-parallel-item::before {content: \"\";position: absolute;border-left: 1px solid gray;box-sizing: border-box;top: 0;bottom: 0;left: 50%;z-index: -1;}#sk-container-id-9 div.sk-parallel-item {display: flex;flex-direction: column;z-index: 1;position: relative;background-color: white;}#sk-container-id-9 div.sk-parallel-item:first-child::after {align-self: flex-end;width: 50%;}#sk-container-id-9 div.sk-parallel-item:last-child::after {align-self: flex-start;width: 50%;}#sk-container-id-9 div.sk-parallel-item:only-child::after {width: 0;}#sk-container-id-9 div.sk-dashed-wrapped {border: 1px dashed gray;margin: 0 0.4em 0.5em 0.4em;box-sizing: border-box;padding-bottom: 0.4em;background-color: white;}#sk-container-id-9 div.sk-label label {font-family: monospace;font-weight: bold;display: inline-block;line-height: 1.2em;}#sk-container-id-9 div.sk-label-container {text-align: center;}#sk-container-id-9 div.sk-container {/* jupyter's `normalize.less` sets `[hidden] { display: none; }` but bootstrap.min.css set `[hidden] { display: none !important; }` so we also need the `!important` here to be able to override the default hidden behavior on the sphinx rendered scikit-learn.org. See: https://github.com/scikit-learn/scikit-learn/issues/21755 */display: inline-block !important;position: relative;}#sk-container-id-9 div.sk-text-repr-fallback {display: none;}</style><div id=\"sk-container-id-9\" class=\"sk-top-container\"><div class=\"sk-text-repr-fallback\"><pre>RandomForestClassifier(max_depth=7, n_estimators=80)</pre><b>In a Jupyter environment, please rerun this cell to show the HTML representation or trust the notebook. <br />On GitHub, the HTML representation is unable to render, please try loading this page with nbviewer.org.</b></div><div class=\"sk-container\" hidden><div class=\"sk-item\"><div class=\"sk-estimator sk-toggleable\"><input class=\"sk-toggleable__control sk-hidden--visually\" id=\"sk-estimator-id-13\" type=\"checkbox\" checked><label for=\"sk-estimator-id-13\" class=\"sk-toggleable__label sk-toggleable__label-arrow\">RandomForestClassifier</label><div class=\"sk-toggleable__content\"><pre>RandomForestClassifier(max_depth=7, n_estimators=80)</pre></div></div></div></div></div>"
      ],
      "text/plain": [
       "RandomForestClassifier(max_depth=7, n_estimators=80)"
      ]
     },
     "execution_count": 99,
     "metadata": {},
     "output_type": "execute_result"
    }
   ],
   "source": [
    "g.best_estimator_"
   ]
  },
  {
   "cell_type": "code",
   "execution_count": 100,
   "id": "036688ff-5826-4db0-9d78-e9d6ff45e96a",
   "metadata": {},
   "outputs": [
    {
     "data": {
      "text/plain": [
       "0.9659020518776616"
      ]
     },
     "execution_count": 100,
     "metadata": {},
     "output_type": "execute_result"
    }
   ],
   "source": [
    "g.best_score_"
   ]
  },
  {
   "cell_type": "code",
   "execution_count": 127,
   "id": "4b3d6a2f-c6b9-4708-999f-d694887608d6",
   "metadata": {},
   "outputs": [],
   "source": [
    "import seaborn as sns "
   ]
  },
  {
   "cell_type": "code",
   "execution_count": 128,
   "id": "8b1ec02a-b7a9-457d-b610-2d9cf9db691d",
   "metadata": {},
   "outputs": [],
   "source": [
    "from sklearn.metrics import confusion_matrix"
   ]
  },
  {
   "cell_type": "code",
   "execution_count": 129,
   "id": "b5cc8ed9-61ba-43d4-aae6-78ed6d8e219a",
   "metadata": {},
   "outputs": [
    {
     "data": {
      "text/plain": [
       "array([[33,  0,  0,  0,  0,  0,  0,  0,  0,  0],\n",
       "       [ 1, 17,  3,  3,  0,  1,  2,  0,  1,  0],\n",
       "       [ 1,  0, 28,  1,  0,  0,  0,  1,  2,  0],\n",
       "       [ 0,  1,  1, 32,  0,  0,  0,  0,  0,  0],\n",
       "       [ 0,  0,  0,  0, 33,  0,  8,  5,  0,  0],\n",
       "       [ 2,  0,  0,  1,  0, 35,  1,  1,  0,  7],\n",
       "       [ 1,  0,  0,  0,  0,  0, 34,  0,  0,  0],\n",
       "       [ 0,  0,  0,  0,  0,  0,  0, 34,  0,  0],\n",
       "       [ 0,  2,  2,  3,  0,  0,  0,  3, 19,  1],\n",
       "       [ 0,  0,  0,  4,  0,  0,  0,  4,  0, 32]], dtype=int64)"
      ]
     },
     "execution_count": 129,
     "metadata": {},
     "output_type": "execute_result"
    }
   ],
   "source": [
    "confusion_vector=confusion_matrix(y_test,y_pred)\n",
    "confusion_vector"
   ]
  },
  {
   "cell_type": "code",
   "execution_count": 132,
   "id": "91c8c6a4-2d5c-4ce8-92cd-e811595be5c8",
   "metadata": {},
   "outputs": [
    {
     "data": {
      "text/plain": [
       "<Axes: >"
      ]
     },
     "execution_count": 132,
     "metadata": {},
     "output_type": "execute_result"
    },
    {
     "data": {
      "image/png": "[encoded data removed]",
      "text/plain": [
       "<Figure size 640x480 with 2 Axes>"
      ]
     },
     "metadata": {},
     "output_type": "display_data"
    }
   ],
   "source": [
    "sns.heatmap(confusion_vector,annot=True)"
   ]
  },
  {
   "cell_type": "code",
   "execution_count": null,
   "id": "5f5513f9-6132-45e1-9f3f-7716eb9a909e",
   "metadata": {},
   "outputs": [],
   "source": []
  }
 ],
 "metadata": {
  "kernelspec": {
   "display_name": "Python 3 (ipykernel)",
   "language": "python",
   "name": "python3"
  },
  "language_info": {
   "codemirror_mode": {
    "name": "ipython",
    "version": 3
   },
   "file_extension": ".py",
   "mimetype": "text/x-python",
   "name": "python",
   "nbconvert_exporter": "python",
   "pygments_lexer": "ipython3",
   "version": "3.12.4"
  }
 },
 "nbformat": 4,
 "nbformat_minor": 5
}
