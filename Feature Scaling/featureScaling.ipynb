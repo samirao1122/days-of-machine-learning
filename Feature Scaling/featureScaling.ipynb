{
 "cells": [
  {
   "cell_type": "code",
   "execution_count": 233,
   "id": "fca8bfdd-6b7e-4205-95b2-b9c7bcc72ad0",
   "metadata": {},
   "outputs": [],
   "source": [
    "import pandas as pd\n",
    "\n",
    "\n",
    "import numpy as np\n"
   ]
  },
  {
   "cell_type": "code",
   "execution_count": 234,
   "id": "62ec1b67-3449-46f6-8fd0-9b3a5d330f51",
   "metadata": {},
   "outputs": [],
   "source": [
    "dataset=pd.read_csv(r\"C:\\Users\\Azhar computer\\Documents\\datasets\\archive (1)\\Pune house data.csv\")"
   ]
  },
  {
   "cell_type": "code",
   "execution_count": 235,
   "id": "fb00cce6-acb5-4c42-8710-302e929aeff0",
   "metadata": {},
   "outputs": [
    {
     "data": {
      "text/html": [
       "<div>\n",
       "<style scoped>\n",
       "    .dataframe tbody tr th:only-of-type {\n",
       "        vertical-align: middle;\n",
       "    }\n",
       "\n",
       "    .dataframe tbody tr th {\n",
       "        vertical-align: top;\n",
       "    }\n",
       "\n",
       "    .dataframe thead th {\n",
       "        text-align: right;\n",
       "    }\n",
       "</style>\n",
       "<table border=\"1\" class=\"dataframe\">\n",
       "  <thead>\n",
       "    <tr style=\"text-align: right;\">\n",
       "      <th></th>\n",
       "      <th>area_type</th>\n",
       "      <th>availability</th>\n",
       "      <th>size</th>\n",
       "      <th>society</th>\n",
       "      <th>total_sqft</th>\n",
       "      <th>bath</th>\n",
       "      <th>balcony</th>\n",
       "      <th>price</th>\n",
       "      <th>site_location</th>\n",
       "    </tr>\n",
       "  </thead>\n",
       "  <tbody>\n",
       "    <tr>\n",
       "      <th>0</th>\n",
       "      <td>Super built-up  Area</td>\n",
       "      <td>19-Dec</td>\n",
       "      <td>2 BHK</td>\n",
       "      <td>Coomee</td>\n",
       "      <td>1056</td>\n",
       "      <td>2.0</td>\n",
       "      <td>1.0</td>\n",
       "      <td>39.07</td>\n",
       "      <td>Alandi Road</td>\n",
       "    </tr>\n",
       "    <tr>\n",
       "      <th>1</th>\n",
       "      <td>Plot  Area</td>\n",
       "      <td>Ready To Move</td>\n",
       "      <td>4 Bedroom</td>\n",
       "      <td>Theanmp</td>\n",
       "      <td>2600</td>\n",
       "      <td>5.0</td>\n",
       "      <td>3.0</td>\n",
       "      <td>120.00</td>\n",
       "      <td>Ambegaon Budruk</td>\n",
       "    </tr>\n",
       "    <tr>\n",
       "      <th>2</th>\n",
       "      <td>Built-up  Area</td>\n",
       "      <td>Ready To Move</td>\n",
       "      <td>3 BHK</td>\n",
       "      <td>NaN</td>\n",
       "      <td>1440</td>\n",
       "      <td>2.0</td>\n",
       "      <td>3.0</td>\n",
       "      <td>62.00</td>\n",
       "      <td>Anandnagar</td>\n",
       "    </tr>\n",
       "    <tr>\n",
       "      <th>3</th>\n",
       "      <td>Super built-up  Area</td>\n",
       "      <td>Ready To Move</td>\n",
       "      <td>3 BHK</td>\n",
       "      <td>Soiewre</td>\n",
       "      <td>1521</td>\n",
       "      <td>3.0</td>\n",
       "      <td>1.0</td>\n",
       "      <td>95.00</td>\n",
       "      <td>Aundh</td>\n",
       "    </tr>\n",
       "    <tr>\n",
       "      <th>4</th>\n",
       "      <td>Super built-up  Area</td>\n",
       "      <td>Ready To Move</td>\n",
       "      <td>2 BHK</td>\n",
       "      <td>NaN</td>\n",
       "      <td>1200</td>\n",
       "      <td>2.0</td>\n",
       "      <td>1.0</td>\n",
       "      <td>51.00</td>\n",
       "      <td>Aundh Road</td>\n",
       "    </tr>\n",
       "  </tbody>\n",
       "</table>\n",
       "</div>"
      ],
      "text/plain": [
       "              area_type   availability       size  society total_sqft  bath  \\\n",
       "0  Super built-up  Area         19-Dec      2 BHK  Coomee        1056   2.0   \n",
       "1            Plot  Area  Ready To Move  4 Bedroom  Theanmp       2600   5.0   \n",
       "2        Built-up  Area  Ready To Move      3 BHK      NaN       1440   2.0   \n",
       "3  Super built-up  Area  Ready To Move      3 BHK  Soiewre       1521   3.0   \n",
       "4  Super built-up  Area  Ready To Move      2 BHK      NaN       1200   2.0   \n",
       "\n",
       "   balcony   price    site_location  \n",
       "0      1.0   39.07      Alandi Road  \n",
       "1      3.0  120.00  Ambegaon Budruk  \n",
       "2      3.0   62.00       Anandnagar  \n",
       "3      1.0   95.00            Aundh  \n",
       "4      1.0   51.00       Aundh Road  "
      ]
     },
     "execution_count": 235,
     "metadata": {},
     "output_type": "execute_result"
    }
   ],
   "source": [
    "dataset.head()\n",
    "\n"
   ]
  },
  {
   "cell_type": "code",
   "execution_count": 236,
   "id": "7dc1e342-30b4-4bfa-a1c0-81b256782295",
   "metadata": {},
   "outputs": [],
   "source": [
    "split = dataset[\"size\"].str.split(\" \", n=1, expand=True)\n",
    "dataset[\"bed\"] = split[0].astype(np.float64)\n"
   ]
  },
  {
   "cell_type": "code",
   "execution_count": 237,
   "id": "554ed016-a7fc-4150-b654-2ad564753bba",
   "metadata": {
    "scrolled": true
   },
   "outputs": [
    {
     "data": {
      "text/html": [
       "<div>\n",
       "<style scoped>\n",
       "    .dataframe tbody tr th:only-of-type {\n",
       "        vertical-align: middle;\n",
       "    }\n",
       "\n",
       "    .dataframe tbody tr th {\n",
       "        vertical-align: top;\n",
       "    }\n",
       "\n",
       "    .dataframe thead th {\n",
       "        text-align: right;\n",
       "    }\n",
       "</style>\n",
       "<table border=\"1\" class=\"dataframe\">\n",
       "  <thead>\n",
       "    <tr style=\"text-align: right;\">\n",
       "      <th></th>\n",
       "      <th>area_type</th>\n",
       "      <th>bath</th>\n",
       "      <th>price</th>\n",
       "      <th>site_location</th>\n",
       "      <th>bed</th>\n",
       "    </tr>\n",
       "  </thead>\n",
       "  <tbody>\n",
       "    <tr>\n",
       "      <th>0</th>\n",
       "      <td>Super built-up  Area</td>\n",
       "      <td>2.0</td>\n",
       "      <td>39.07</td>\n",
       "      <td>Alandi Road</td>\n",
       "      <td>2.0</td>\n",
       "    </tr>\n",
       "    <tr>\n",
       "      <th>1</th>\n",
       "      <td>Plot  Area</td>\n",
       "      <td>5.0</td>\n",
       "      <td>120.00</td>\n",
       "      <td>Ambegaon Budruk</td>\n",
       "      <td>4.0</td>\n",
       "    </tr>\n",
       "    <tr>\n",
       "      <th>2</th>\n",
       "      <td>Built-up  Area</td>\n",
       "      <td>2.0</td>\n",
       "      <td>62.00</td>\n",
       "      <td>Anandnagar</td>\n",
       "      <td>3.0</td>\n",
       "    </tr>\n",
       "    <tr>\n",
       "      <th>3</th>\n",
       "      <td>Super built-up  Area</td>\n",
       "      <td>3.0</td>\n",
       "      <td>95.00</td>\n",
       "      <td>Aundh</td>\n",
       "      <td>3.0</td>\n",
       "    </tr>\n",
       "    <tr>\n",
       "      <th>4</th>\n",
       "      <td>Super built-up  Area</td>\n",
       "      <td>2.0</td>\n",
       "      <td>51.00</td>\n",
       "      <td>Aundh Road</td>\n",
       "      <td>2.0</td>\n",
       "    </tr>\n",
       "  </tbody>\n",
       "</table>\n",
       "</div>"
      ],
      "text/plain": [
       "              area_type  bath   price    site_location  bed\n",
       "0  Super built-up  Area   2.0   39.07      Alandi Road  2.0\n",
       "1            Plot  Area   5.0  120.00  Ambegaon Budruk  4.0\n",
       "2        Built-up  Area   2.0   62.00       Anandnagar  3.0\n",
       "3  Super built-up  Area   3.0   95.00            Aundh  3.0\n",
       "4  Super built-up  Area   2.0   51.00       Aundh Road  2.0"
      ]
     },
     "execution_count": 237,
     "metadata": {},
     "output_type": "execute_result"
    }
   ],
   "source": [
    "dataset=dataset.drop(columns=[\"availability\",\"balcony\",\"size\",\"society\",\"total_sqft\"],axis=1)\n",
    "dataset.head()"
   ]
  },
  {
   "cell_type": "code",
   "execution_count": 238,
   "id": "08c94330-6932-4304-b232-62d227faa642",
   "metadata": {},
   "outputs": [
    {
     "data": {
      "text/plain": [
       "area_type         0\n",
       "bath             73\n",
       "price             0\n",
       "site_location     1\n",
       "bed              16\n",
       "dtype: int64"
      ]
     },
     "execution_count": 238,
     "metadata": {},
     "output_type": "execute_result"
    }
   ],
   "source": [
    "dataset.isnull().sum()\n"
   ]
  },
  {
   "cell_type": "code",
   "execution_count": 239,
   "id": "88195c95-8391-4e03-a34d-0ce70cfedb4a",
   "metadata": {},
   "outputs": [
    {
     "data": {
      "text/plain": [
       "area_type\n",
       "Super built-up  Area    8790\n",
       "Built-up  Area          2418\n",
       "Plot  Area              2025\n",
       "Carpet  Area              87\n",
       "Name: count, dtype: int64"
      ]
     },
     "execution_count": 239,
     "metadata": {},
     "output_type": "execute_result"
    }
   ],
   "source": [
    "dataset.area_type.value_counts()\n"
   ]
  },
  {
   "cell_type": "code",
   "execution_count": 240,
   "id": "46cfc6a4-bf13-4a06-8b53-785a93fbebd2",
   "metadata": {},
   "outputs": [],
   "source": [
    "\n",
    "dataset[\"area_type\"] = dataset[\"area_type\"].fillna(dataset[\"area_type\"].mode()[0])\n",
    "dataset[\"site_location\"] = dataset[\"site_location\"].fillna(dataset[\"site_location\"].mode()[0])\n",
    "dataset[\"bath\"] = dataset[\"bath\"].fillna(dataset[\"bath\"].mean())\n",
    "dataset[\"bed\"] = dataset[\"bed\"].fillna(dataset[\"bed\"].mean())\n",
    "\n"
   ]
  },
  {
   "cell_type": "code",
   "execution_count": 241,
   "id": "f427e495-f80d-4fd8-aa92-99dd87bf1b9a",
   "metadata": {},
   "outputs": [
    {
     "data": {
      "text/plain": [
       "area_type        0\n",
       "bath             0\n",
       "price            0\n",
       "site_location    0\n",
       "bed              0\n",
       "dtype: int64"
      ]
     },
     "execution_count": 241,
     "metadata": {},
     "output_type": "execute_result"
    }
   ],
   "source": [
    "dataset.isnull().sum()\n"
   ]
  },
  {
   "cell_type": "code",
   "execution_count": 242,
   "id": "7c0cbabf-00d1-493b-9c0c-02074b66774b",
   "metadata": {},
   "outputs": [],
   "source": [
    "from sklearn.preprocessing import StandardScaler,OneHotEncoder,OrdinalEncoder,LabelEncoder\n"
   ]
  },
  {
   "cell_type": "code",
   "execution_count": 243,
   "id": "cd6433c7-144b-44ae-98a4-9d8a4f96c616",
   "metadata": {},
   "outputs": [],
   "source": [
    "area_order = [[\"Super built-up  Area\", \"Built-up  Area\", \"Plot  Area\", \"Carpet  Area\"]]\n",
    "oe= OrdinalEncoder(categories=area_order)\n",
    "dataset.area_type=oe.fit_transform(dataset[[\"area_type\"]]).astype(int)"
   ]
  },
  {
   "cell_type": "code",
   "execution_count": 244,
   "id": "9c08f5be-8a44-43db-97e4-06271bad2238",
   "metadata": {},
   "outputs": [],
   "source": [
    "\n",
    "onh=OneHotEncoder(sparse_output=False)\n",
    "dataset1=onh.fit_transform(dataset[[\"site_location\"]])"
   ]
  },
  {
   "cell_type": "code",
   "execution_count": 245,
   "id": "eff6653f-a84d-48a2-a516-e46a516f1bb3",
   "metadata": {},
   "outputs": [
    {
     "name": "stdout",
     "output_type": "stream",
     "text": [
      "['Alandi Road' 'Ambegaon Budruk' 'Anandnagar' 'Aundh' 'Aundh Road'\n",
      " 'Balaji Nagar' 'Baner' 'Baner road' 'Bhandarkar Road' 'Bhavani Peth'\n",
      " 'Bibvewadi' 'Bopodi' 'Budhwar Peth' 'Bund Garden Road' 'Camp'\n",
      " 'Chandan Nagar' 'Dapodi' 'Deccan Gymkhana' 'Dehu Road' 'Dhankawadi'\n",
      " 'Dhayari Phata' 'Dhole Patil Road' 'Erandwane' 'Fatima Nagar'\n",
      " 'Fergusson College Road' 'Ganesh Peth' 'Ganeshkhind' 'Ghorpade Peth'\n",
      " 'other' 'Gokhale Nagar' 'Gultekdi' 'Guruwar peth' 'Hadapsar'\n",
      " 'Hadapsar Industrial Estate' 'Hingne Khurd' 'Jangali Maharaj Road'\n",
      " 'Kalyani Nagar' 'Karve Nagar' 'Karve Road' 'Kasba Peth' 'Katraj'\n",
      " 'Khadaki' 'Khadki' 'Kharadi' 'Kondhwa' 'Kondhwa Budruk' 'Kondhwa Khurd'\n",
      " 'Koregaon Park' 'Kothrud' 'Law College Road' 'Laxmi Road' 'Lulla Nagar'\n",
      " 'Mahatma Gandhi Road' 'Mangalwar peth' 'Manik Bagh' 'Market yard'\n",
      " 'Model colony' 'Mukund Nagar' 'Mundhawa' 'Nagar Road' 'Nana Peth'\n",
      " 'Narayan Peth' 'Narayangaon' 'Navi Peth' 'Padmavati' 'Parvati Darshan'\n",
      " 'Pashan' 'Paud Road' 'Pirangut' 'Prabhat Road' 'Pune Railway Station'\n",
      " 'Rasta Peth' 'Raviwar Peth' 'Sadashiv Peth' 'Sahakar Nagar'\n",
      " 'Salunke Vihar' 'Sasson Road' 'Satara Road' 'Senapati Bapat Road'\n",
      " 'Shaniwar Peth' 'Shivaji Nagar' 'Shukrawar Peth' 'Sinhagad Road'\n",
      " 'Somwar Peth' 'Swargate' 'Tilak Road' 'Uruli Devachi' 'Vadgaon Budruk'\n",
      " 'Wadgaon Sheri' 'Viman Nagar' 'Vishrant Wadi' 'Wagholi' 'Wakadewadi'\n",
      " 'Wanowrie' 'Warje' 'Yerawada' 'Ghorpadi']\n"
     ]
    }
   ],
   "source": [
    "site_location_values = dataset[\"site_location\"].unique()\n",
    "print(site_location_values)\n",
    "\n"
   ]
  },
  {
   "cell_type": "code",
   "execution_count": 246,
   "id": "a8bf45ba-bd13-4364-9907-274344f8b0ee",
   "metadata": {},
   "outputs": [],
   "source": [
    "dataset.head()\n",
    "d1=pd.DataFrame(dataset1,columns=site_location_values)\n",
    "dataset2=pd.concat([dataset,d1],axis=1)"
   ]
  },
  {
   "cell_type": "code",
   "execution_count": 247,
   "id": "b18f5366-d261-4c99-8fd9-146a339131fd",
   "metadata": {},
   "outputs": [],
   "source": [
    "dataset2.drop(columns=[\"site_location\"],axis=1,inplace=True)"
   ]
  },
  {
   "cell_type": "code",
   "execution_count": 248,
   "id": "d1489b13-da9e-4ec8-8e61-5daea376a000",
   "metadata": {},
   "outputs": [
    {
     "data": {
      "text/html": [
       "<div>\n",
       "<style scoped>\n",
       "    .dataframe tbody tr th:only-of-type {\n",
       "        vertical-align: middle;\n",
       "    }\n",
       "\n",
       "    .dataframe tbody tr th {\n",
       "        vertical-align: top;\n",
       "    }\n",
       "\n",
       "    .dataframe thead th {\n",
       "        text-align: right;\n",
       "    }\n",
       "</style>\n",
       "<table border=\"1\" class=\"dataframe\">\n",
       "  <thead>\n",
       "    <tr style=\"text-align: right;\">\n",
       "      <th></th>\n",
       "      <th>area_type</th>\n",
       "      <th>bath</th>\n",
       "      <th>price</th>\n",
       "      <th>bed</th>\n",
       "      <th>Alandi Road</th>\n",
       "      <th>Ambegaon Budruk</th>\n",
       "      <th>Anandnagar</th>\n",
       "      <th>Aundh</th>\n",
       "      <th>Aundh Road</th>\n",
       "      <th>Balaji Nagar</th>\n",
       "      <th>...</th>\n",
       "      <th>Vadgaon Budruk</th>\n",
       "      <th>Wadgaon Sheri</th>\n",
       "      <th>Viman Nagar</th>\n",
       "      <th>Vishrant Wadi</th>\n",
       "      <th>Wagholi</th>\n",
       "      <th>Wakadewadi</th>\n",
       "      <th>Wanowrie</th>\n",
       "      <th>Warje</th>\n",
       "      <th>Yerawada</th>\n",
       "      <th>Ghorpadi</th>\n",
       "    </tr>\n",
       "  </thead>\n",
       "  <tbody>\n",
       "    <tr>\n",
       "      <th>0</th>\n",
       "      <td>0</td>\n",
       "      <td>2.0</td>\n",
       "      <td>39.07</td>\n",
       "      <td>2.0</td>\n",
       "      <td>1.0</td>\n",
       "      <td>0.0</td>\n",
       "      <td>0.0</td>\n",
       "      <td>0.0</td>\n",
       "      <td>0.0</td>\n",
       "      <td>0.0</td>\n",
       "      <td>...</td>\n",
       "      <td>0.0</td>\n",
       "      <td>0.0</td>\n",
       "      <td>0.0</td>\n",
       "      <td>0.0</td>\n",
       "      <td>0.0</td>\n",
       "      <td>0.0</td>\n",
       "      <td>0.0</td>\n",
       "      <td>0.0</td>\n",
       "      <td>0.0</td>\n",
       "      <td>0.0</td>\n",
       "    </tr>\n",
       "    <tr>\n",
       "      <th>1</th>\n",
       "      <td>2</td>\n",
       "      <td>5.0</td>\n",
       "      <td>120.00</td>\n",
       "      <td>4.0</td>\n",
       "      <td>0.0</td>\n",
       "      <td>1.0</td>\n",
       "      <td>0.0</td>\n",
       "      <td>0.0</td>\n",
       "      <td>0.0</td>\n",
       "      <td>0.0</td>\n",
       "      <td>...</td>\n",
       "      <td>0.0</td>\n",
       "      <td>0.0</td>\n",
       "      <td>0.0</td>\n",
       "      <td>0.0</td>\n",
       "      <td>0.0</td>\n",
       "      <td>0.0</td>\n",
       "      <td>0.0</td>\n",
       "      <td>0.0</td>\n",
       "      <td>0.0</td>\n",
       "      <td>0.0</td>\n",
       "    </tr>\n",
       "  </tbody>\n",
       "</table>\n",
       "<p>2 rows × 101 columns</p>\n",
       "</div>"
      ],
      "text/plain": [
       "   area_type  bath   price  bed  Alandi Road  Ambegaon Budruk  Anandnagar  \\\n",
       "0          0   2.0   39.07  2.0          1.0              0.0         0.0   \n",
       "1          2   5.0  120.00  4.0          0.0              1.0         0.0   \n",
       "\n",
       "   Aundh  Aundh Road  Balaji Nagar  ...  Vadgaon Budruk  Wadgaon Sheri  \\\n",
       "0    0.0         0.0           0.0  ...             0.0            0.0   \n",
       "1    0.0         0.0           0.0  ...             0.0            0.0   \n",
       "\n",
       "   Viman Nagar  Vishrant Wadi  Wagholi  Wakadewadi  Wanowrie  Warje  Yerawada  \\\n",
       "0          0.0            0.0      0.0         0.0       0.0    0.0       0.0   \n",
       "1          0.0            0.0      0.0         0.0       0.0    0.0       0.0   \n",
       "\n",
       "   Ghorpadi  \n",
       "0       0.0  \n",
       "1       0.0  \n",
       "\n",
       "[2 rows x 101 columns]"
      ]
     },
     "execution_count": 248,
     "metadata": {},
     "output_type": "execute_result"
    }
   ],
   "source": [
    "dataset2.head(2)"
   ]
  },
  {
   "cell_type": "code",
   "execution_count": null,
   "id": "7b89e2ce-ca7b-437b-9f60-ce975b9430e5",
   "metadata": {},
   "outputs": [],
   "source": []
  },
  {
   "cell_type": "code",
   "execution_count": null,
   "id": "61d60c4c-6295-4b99-97c2-de6d70f51c0d",
   "metadata": {},
   "outputs": [],
   "source": [
    "dataset.desc"
   ]
  },
  {
   "cell_type": "code",
   "execution_count": null,
   "id": "77f77887-0c5b-4946-a41c-c8035e0b81e6",
   "metadata": {},
   "outputs": [],
   "source": []
  },
  {
   "cell_type": "code",
   "execution_count": null,
   "id": "6e8a45e0-b1bd-448e-a0b3-8434d2f58d07",
   "metadata": {},
   "outputs": [],
   "source": []
  },
  {
   "cell_type": "code",
   "execution_count": null,
   "id": "a4e3c5b5-e563-4f51-91f6-e2eba7adaa67",
   "metadata": {},
   "outputs": [],
   "source": []
  },
  {
   "cell_type": "code",
   "execution_count": null,
   "id": "3858c479-5f77-4cbe-96c1-41d1ea871a6f",
   "metadata": {},
   "outputs": [],
   "source": []
  },
  {
   "cell_type": "code",
   "execution_count": null,
   "id": "ee981b98-fb64-4356-9586-a956dfd67ddf",
   "metadata": {},
   "outputs": [],
   "source": []
  },
  {
   "cell_type": "code",
   "execution_count": null,
   "id": "dc538c82-61b2-40a9-9ce8-9812917d7501",
   "metadata": {},
   "outputs": [],
   "source": []
  },
  {
   "cell_type": "code",
   "execution_count": null,
   "id": "3b90bd76-e524-45dd-8f0c-8be815ac5fbf",
   "metadata": {},
   "outputs": [],
   "source": []
  },
  {
   "cell_type": "code",
   "execution_count": null,
   "id": "3b8ac2b9-2741-4add-9faf-efef77521d67",
   "metadata": {},
   "outputs": [],
   "source": []
  },
  {
   "cell_type": "code",
   "execution_count": null,
   "id": "93ef6f64-bcd2-46ba-a510-0661a0dde885",
   "metadata": {},
   "outputs": [],
   "source": []
  },
  {
   "cell_type": "code",
   "execution_count": null,
   "id": "8f02a6f2-e89a-4bad-9452-7c02e462d13f",
   "metadata": {},
   "outputs": [],
   "source": []
  }
 ],
 "metadata": {
  "kernelspec": {
   "display_name": "Python 3 (ipykernel)",
   "language": "python",
   "name": "python3"
  },
  "language_info": {
   "codemirror_mode": {
    "name": "ipython",
    "version": 3
   },
   "file_extension": ".py",
   "mimetype": "text/x-python",
   "name": "python",
   "nbconvert_exporter": "python",
   "pygments_lexer": "ipython3",
   "version": "3.11.0"
  }
 },
 "nbformat": 4,
 "nbformat_minor": 5
}
